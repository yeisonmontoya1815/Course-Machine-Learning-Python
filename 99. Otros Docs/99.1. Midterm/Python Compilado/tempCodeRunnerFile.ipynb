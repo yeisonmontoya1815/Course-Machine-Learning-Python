# Scenario 6: Ternary Operator
x = 10
message = "Even" if x % 2 == 0 else "Odd"
print(message)