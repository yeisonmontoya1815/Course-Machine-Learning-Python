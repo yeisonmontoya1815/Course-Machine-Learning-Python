{
  "cells": [
    {
      "cell_type": "markdown",
      "metadata": {},
      "source": [
        "# **Hyperparameter Tuning in Python**"
      ]
    },
    {
      "cell_type": "markdown",
      "metadata": {
        "id": "G_1Gk2qA29Nx"
      },
      "source": [
        "## Chapter 1 - Hyperparameters and Parameters\n",
        "> In this introductory chapter you will learn the difference between hyperparameters and parameters. You will practice extracting and analyzing parameters, setting hyperparameter values for several popular machine learning algorithms. Along the way you will learn some best practice tips & tricks for choosing which hyperparameters to tune and what values to set & build learning curves to analyze your hyperparameter choices. This is the Summary of lecture \"Hyperparameter Tuning in Python\", via datacamp."
      ]
    },
    {
      "cell_type": "code",
      "execution_count": 34,
      "metadata": {
        "id": "r0Q_-V3q29Nz"
      },
      "outputs": [],
      "source": [
        "import numpy as np\n",
        "import pandas as pd\n",
        "import matplotlib.pyplot as plt"
      ]
    },
    {
      "cell_type": "markdown",
      "metadata": {
        "id": "DSjYHRhT29Nz"
      },
      "source": [
        "### Introduction\n",
        "- Parameters\n",
        "    - Components of the model learned during the modeling process\n",
        "    - Do not set these manually\n"
      ]
    },
    {
      "cell_type": "markdown",
      "metadata": {
        "id": "AAR4TyvC29N0"
      },
      "source": [
        "### Extracting a Logistic Regression parameter\n",
        "You are now going to practice extracting an important parameter of the logistic regression model. The logistic regression has a few other parameters you will not explore here but you can review them in the [scikit-learn.org](https://scikit-learn.org/) documentation for the `LogisticRegression()` module under 'Attributes'.\n",
        "\n",
        "This parameter is important for understanding the direction and magnitude of the effect the variables have on the target.\n",
        "\n",
        "In this exercise we will extract the coefficient parameter (found in the `coef_` attribute), zip it up with the original column names, and see which variables had the largest positive effect on the target variable."
      ]
    },
    {
      "cell_type": "code",
      "execution_count": 35,
      "metadata": {
        "id": "idKcz8Cd29N0",
        "outputId": "4fa1dc68-5bd2-44d4-c8fd-7f6445208ef2"
      },
      "outputs": [
        {
          "data": {
            "text/html": [
              "<div>\n",
              "<style scoped>\n",
              "    .dataframe tbody tr th:only-of-type {\n",
              "        vertical-align: middle;\n",
              "    }\n",
              "\n",
              "    .dataframe tbody tr th {\n",
              "        vertical-align: top;\n",
              "    }\n",
              "\n",
              "    .dataframe thead th {\n",
              "        text-align: right;\n",
              "    }\n",
              "</style>\n",
              "<table border=\"1\" class=\"dataframe\">\n",
              "  <thead>\n",
              "    <tr style=\"text-align: right;\">\n",
              "      <th></th>\n",
              "      <th>ID</th>\n",
              "      <th>LIMIT_BAL</th>\n",
              "      <th>AGE</th>\n",
              "      <th>PAY_0</th>\n",
              "      <th>PAY_2</th>\n",
              "      <th>PAY_3</th>\n",
              "      <th>PAY_4</th>\n",
              "      <th>PAY_5</th>\n",
              "      <th>PAY_6</th>\n",
              "      <th>BILL_AMT1</th>\n",
              "      <th>...</th>\n",
              "      <th>SEX_2</th>\n",
              "      <th>EDUCATION_1</th>\n",
              "      <th>EDUCATION_2</th>\n",
              "      <th>EDUCATION_3</th>\n",
              "      <th>EDUCATION_4</th>\n",
              "      <th>EDUCATION_5</th>\n",
              "      <th>EDUCATION_6</th>\n",
              "      <th>MARRIAGE_1</th>\n",
              "      <th>MARRIAGE_2</th>\n",
              "      <th>MARRIAGE_3</th>\n",
              "    </tr>\n",
              "  </thead>\n",
              "  <tbody>\n",
              "    <tr>\n",
              "      <th>0</th>\n",
              "      <td>1</td>\n",
              "      <td>20000</td>\n",
              "      <td>24</td>\n",
              "      <td>2</td>\n",
              "      <td>2</td>\n",
              "      <td>-1</td>\n",
              "      <td>-1</td>\n",
              "      <td>-2</td>\n",
              "      <td>-2</td>\n",
              "      <td>3913</td>\n",
              "      <td>...</td>\n",
              "      <td>True</td>\n",
              "      <td>False</td>\n",
              "      <td>True</td>\n",
              "      <td>False</td>\n",
              "      <td>False</td>\n",
              "      <td>False</td>\n",
              "      <td>False</td>\n",
              "      <td>True</td>\n",
              "      <td>False</td>\n",
              "      <td>False</td>\n",
              "    </tr>\n",
              "    <tr>\n",
              "      <th>1</th>\n",
              "      <td>2</td>\n",
              "      <td>120000</td>\n",
              "      <td>26</td>\n",
              "      <td>-1</td>\n",
              "      <td>2</td>\n",
              "      <td>0</td>\n",
              "      <td>0</td>\n",
              "      <td>0</td>\n",
              "      <td>2</td>\n",
              "      <td>2682</td>\n",
              "      <td>...</td>\n",
              "      <td>True</td>\n",
              "      <td>False</td>\n",
              "      <td>True</td>\n",
              "      <td>False</td>\n",
              "      <td>False</td>\n",
              "      <td>False</td>\n",
              "      <td>False</td>\n",
              "      <td>False</td>\n",
              "      <td>True</td>\n",
              "      <td>False</td>\n",
              "    </tr>\n",
              "    <tr>\n",
              "      <th>2</th>\n",
              "      <td>3</td>\n",
              "      <td>90000</td>\n",
              "      <td>34</td>\n",
              "      <td>0</td>\n",
              "      <td>0</td>\n",
              "      <td>0</td>\n",
              "      <td>0</td>\n",
              "      <td>0</td>\n",
              "      <td>0</td>\n",
              "      <td>29239</td>\n",
              "      <td>...</td>\n",
              "      <td>True</td>\n",
              "      <td>False</td>\n",
              "      <td>True</td>\n",
              "      <td>False</td>\n",
              "      <td>False</td>\n",
              "      <td>False</td>\n",
              "      <td>False</td>\n",
              "      <td>False</td>\n",
              "      <td>True</td>\n",
              "      <td>False</td>\n",
              "    </tr>\n",
              "    <tr>\n",
              "      <th>3</th>\n",
              "      <td>4</td>\n",
              "      <td>50000</td>\n",
              "      <td>37</td>\n",
              "      <td>0</td>\n",
              "      <td>0</td>\n",
              "      <td>0</td>\n",
              "      <td>0</td>\n",
              "      <td>0</td>\n",
              "      <td>0</td>\n",
              "      <td>46990</td>\n",
              "      <td>...</td>\n",
              "      <td>True</td>\n",
              "      <td>False</td>\n",
              "      <td>True</td>\n",
              "      <td>False</td>\n",
              "      <td>False</td>\n",
              "      <td>False</td>\n",
              "      <td>False</td>\n",
              "      <td>True</td>\n",
              "      <td>False</td>\n",
              "      <td>False</td>\n",
              "    </tr>\n",
              "    <tr>\n",
              "      <th>4</th>\n",
              "      <td>5</td>\n",
              "      <td>50000</td>\n",
              "      <td>57</td>\n",
              "      <td>-1</td>\n",
              "      <td>0</td>\n",
              "      <td>-1</td>\n",
              "      <td>0</td>\n",
              "      <td>0</td>\n",
              "      <td>0</td>\n",
              "      <td>8617</td>\n",
              "      <td>...</td>\n",
              "      <td>False</td>\n",
              "      <td>False</td>\n",
              "      <td>True</td>\n",
              "      <td>False</td>\n",
              "      <td>False</td>\n",
              "      <td>False</td>\n",
              "      <td>False</td>\n",
              "      <td>True</td>\n",
              "      <td>False</td>\n",
              "      <td>False</td>\n",
              "    </tr>\n",
              "  </tbody>\n",
              "</table>\n",
              "<p>5 rows × 32 columns</p>\n",
              "</div>"
            ],
            "text/plain": [
              "   ID  LIMIT_BAL  AGE  PAY_0  PAY_2  PAY_3  PAY_4  PAY_5  PAY_6  BILL_AMT1  \\\n",
              "0   1      20000   24      2      2     -1     -1     -2     -2       3913   \n",
              "1   2     120000   26     -1      2      0      0      0      2       2682   \n",
              "2   3      90000   34      0      0      0      0      0      0      29239   \n",
              "3   4      50000   37      0      0      0      0      0      0      46990   \n",
              "4   5      50000   57     -1      0     -1      0      0      0       8617   \n",
              "\n",
              "   ...  SEX_2  EDUCATION_1  EDUCATION_2  EDUCATION_3  EDUCATION_4  \\\n",
              "0  ...   True        False         True        False        False   \n",
              "1  ...   True        False         True        False        False   \n",
              "2  ...   True        False         True        False        False   \n",
              "3  ...   True        False         True        False        False   \n",
              "4  ...  False        False         True        False        False   \n",
              "\n",
              "   EDUCATION_5  EDUCATION_6  MARRIAGE_1  MARRIAGE_2  MARRIAGE_3  \n",
              "0        False        False        True       False       False  \n",
              "1        False        False       False        True       False  \n",
              "2        False        False       False        True       False  \n",
              "3        False        False        True       False       False  \n",
              "4        False        False        True       False       False  \n",
              "\n",
              "[5 rows x 32 columns]"
            ]
          },
          "execution_count": 35,
          "metadata": {},
          "output_type": "execute_result"
        }
      ],
      "source": [
        "credit_card = pd.read_csv('credit-card-full.csv')\n",
        "# To change categorical variable with dummy variables\n",
        "credit_card = pd.get_dummies(credit_card, columns=['SEX', 'EDUCATION', 'MARRIAGE'], drop_first=True)\n",
        "credit_card.head()"
      ]
    },
    {
      "cell_type": "code",
      "execution_count": 36,
      "metadata": {
        "id": "D767fPRN29N1"
      },
      "outputs": [],
      "source": [
        "from sklearn.model_selection import train_test_split\n",
        "\n",
        "X = credit_card.drop(['ID', 'default payment next month'], axis=1)\n",
        "y = credit_card['default payment next month']\n",
        "\n",
        "X_train, X_test, y_train, y_test = train_test_split(X, y, test_size=0.3, shuffle=True)"
      ]
    },
    {
      "cell_type": "code",
      "execution_count": 37,
      "metadata": {
        "id": "7poNHX7Y29N1",
        "outputId": "473ae929-1e08-4f5b-abcd-d94478cac1df"
      },
      "outputs": [
        {
          "name": "stdout",
          "output_type": "stream",
          "text": [
            "       Variable   Coefficient\n",
            "0     LIMIT_BAL -6.977738e-07\n",
            "1           AGE -2.127848e-02\n",
            "2         PAY_0  1.876894e-01\n",
            "3         PAY_2  1.447560e-01\n",
            "4         PAY_3  1.236060e-01\n",
            "5         PAY_4  1.122687e-01\n",
            "6         PAY_5  1.031810e-01\n",
            "7         PAY_6  9.289733e-02\n",
            "8     BILL_AMT1 -5.627443e-06\n",
            "9     BILL_AMT2  3.634145e-06\n",
            "10    BILL_AMT3  1.024709e-06\n",
            "11    BILL_AMT4 -4.802755e-07\n",
            "12    BILL_AMT5  1.350610e-06\n",
            "13    BILL_AMT6 -1.471955e-06\n",
            "14     PAY_AMT1 -1.708411e-05\n",
            "15     PAY_AMT2 -2.069216e-05\n",
            "16     PAY_AMT3 -3.045951e-06\n",
            "17     PAY_AMT4 -4.689321e-06\n",
            "18     PAY_AMT5 -2.608703e-06\n",
            "19     PAY_AMT6 -3.205912e-06\n",
            "20        SEX_2 -2.366238e-02\n",
            "21  EDUCATION_1 -8.339619e-03\n",
            "22  EDUCATION_2 -6.633597e-03\n",
            "23  EDUCATION_3 -5.410737e-04\n",
            "24  EDUCATION_4 -1.058441e-03\n",
            "25  EDUCATION_5 -2.372281e-03\n",
            "26  EDUCATION_6 -4.097835e-05\n",
            "27   MARRIAGE_1  1.690885e-02\n",
            "28   MARRIAGE_2 -3.576897e-02\n",
            "29   MARRIAGE_3  1.667287e-04\n",
            "  Variable  Coefficient\n",
            "2    PAY_0     0.187689\n",
            "3    PAY_2     0.144756\n",
            "4    PAY_3     0.123606\n"
          ]
        },
        {
          "name": "stderr",
          "output_type": "stream",
          "text": [
            "/home/codespace/.local/lib/python3.10/site-packages/sklearn/linear_model/_logistic.py:469: ConvergenceWarning: lbfgs failed to converge (status=1):\n",
            "STOP: TOTAL NO. of ITERATIONS REACHED LIMIT.\n",
            "\n",
            "Increase the number of iterations (max_iter) or scale the data as shown in:\n",
            "    https://scikit-learn.org/stable/modules/preprocessing.html\n",
            "Please also refer to the documentation for alternative solver options:\n",
            "    https://scikit-learn.org/stable/modules/linear_model.html#logistic-regression\n",
            "  n_iter_i = _check_optimize_result(\n"
          ]
        }
      ],
      "source": [
        "from sklearn.linear_model import LogisticRegression\n",
        "\n",
        "log_reg_clf = LogisticRegression(max_iter=1000)\n",
        "log_reg_clf.fit(X_train, y_train)\n",
        "\n",
        "# Create a list of original variable names from the training DataFrame\n",
        "original_variables = X_train.columns\n",
        "\n",
        "# Extract the coefficients of the logistic regression estimator\n",
        "model_coefficients = log_reg_clf.coef_[0]\n",
        "\n",
        "# Create a dataframe of the variables and coefficients & print it out\n",
        "coefficient_df = pd.DataFrame({'Variable': original_variables,\n",
        "                               'Coefficient': model_coefficients})\n",
        "print(coefficient_df)\n",
        "\n",
        "# Print out the top 3 positive variables\n",
        "top_three_df = coefficient_df.sort_values(by='Coefficient', axis=0, ascending=False)[0:3]\n",
        "print(top_three_df)"
      ]
    },
    {
      "cell_type": "markdown",
      "metadata": {
        "id": "csKfdZO729N2"
      },
      "source": [
        "### Extracting a Random Forest parameter\n",
        "You will now translate the work previously undertaken on the logistic regression model to a random forest model. A parameter of this model is, for a given tree, how it decided to split at each level.\n",
        "\n",
        "This analysis is not as useful as the coefficients of logistic regression as you will be unlikely to ever explore every split and every tree in a random forest model. However, it is a very useful exercise to peak under the hood at what the model is doing.\n",
        "\n",
        "In this exercise we will extract a single tree from our random forest model, visualize it and programmatically extract one of the splits."
      ]
    },
    {
      "cell_type": "code",
      "execution_count": null,
      "metadata": {
        "id": "6zfoy2Qv29N2",
        "outputId": "242eefb7-639b-4678-d9e5-13b7af098a58"
      },
      "outputs": [],
      "source": [
        "from sklearn.ensemble import RandomForestClassifier\n",
        "from sklearn.tree import export_graphviz\n",
        "import os\n",
        "import pydot\n",
        "\n",
        "rf_clf = RandomForestClassifier(max_depth=4, criterion='gini', n_estimators=10);\n",
        "rf_clf.fit(X_train, y_train)\n",
        "\n",
        "# Extract the 7th (index 6) tree from the random forest\n",
        "chosen_tree = rf_clf.estimators_[6]\n",
        "\n",
        "# Convert tree to dot object\n",
        "export_graphviz(chosen_tree,\n",
        "                out_file='tree6.dot',\n",
        "                feature_names=X_train.columns,\n",
        "                filled=True,\n",
        "                rounded=True)\n",
        "(graph, ) = pydot.graph_from_dot_file('tree6.dot')\n",
        "\n",
        "# Convert dot to png\n",
        "graph.write_png('tree_viz_image.png')\n",
        "\n",
        "# Visualize the graph using the provided image\n",
        "tree_viz_image = plt.imread('tree_viz_image.png')\n",
        "plt.figure(figsize = (16,10))\n",
        "plt.imshow(tree_viz_image, aspect='auto');\n",
        "plt.axis('off')\n",
        "\n",
        "# Extract the parameters and level of the top (index 0) node\n",
        "split_column = chosen_tree.tree_.feature[0]\n",
        "split_column_name = X_train.columns[split_column]\n",
        "split_value = chosen_tree.tree_.threshold[0]\n",
        "\n",
        "# Print out the feature and level\n",
        "print('This node split on feature {}, at a value of {}'.format(split_column_name, split_value))"
      ]
    },
    {
      "cell_type": "markdown",
      "metadata": {
        "id": "q4IPCP_f29N2"
      },
      "source": [
        "### Introducing Hyperparameters\n",
        "- Hyperparameters\n",
        "    - Something you set before the modelling process (need to tune)\n",
        "    - The algorithm does not learn these"
      ]
    },
    {
      "cell_type": "markdown",
      "metadata": {
        "id": "3f8JPX1029N3"
      },
      "source": [
        "### Exploring Random Forest Hyperparameters\n",
        "Understanding what hyperparameters are available and the impact of different hyperparameters is a core skill for any data scientist. As models become more complex, there are many different settings you can set, but only some will have a large impact on your model.\n",
        "\n",
        "You will now assess an existing random forest model (it has some bad choices for hyperparameters!) and then make better choices for a new random forest model and assess its performance."
      ]
    },
    {
      "cell_type": "code",
      "execution_count": null,
      "metadata": {
        "id": "ZM3pevgn29N3",
        "outputId": "b2de63da-ded7-43d0-f43c-6e8d40a1af1c"
      },
      "outputs": [
        {
          "name": "stdout",
          "output_type": "stream",
          "text": [
            "RandomForestClassifier(n_estimators=5, random_state=42)\n",
            "Confusion Matrix: \n",
            "\n",
            " [[6336  667]\n",
            " [1249  748]] \n",
            " Accuracy Score: \n",
            "\n",
            " 0.7871111111111111\n"
          ]
        }
      ],
      "source": [
        "from sklearn.metrics import confusion_matrix, accuracy_score\n",
        "\n",
        "rf_clf_old = RandomForestClassifier(min_samples_leaf=1, min_samples_split=2,\n",
        "                                    n_estimators=5, oob_score=False, random_state=42)\n",
        "\n",
        "rf_clf_old.fit(X_train, y_train)\n",
        "rf_old_predictions = rf_clf_old.predict(X_test)\n",
        "\n",
        "# Print out the old estimator, notice which hyperparameter is badly set\n",
        "print(rf_clf_old)\n",
        "\n",
        "# Get confusion matrix & accuracy for the old rf_model\n",
        "print('Confusion Matrix: \\n\\n {} \\n Accuracy Score: \\n\\n {}'.format(\n",
        "    confusion_matrix(y_test, rf_old_predictions),\n",
        "    accuracy_score(y_test, rf_old_predictions)\n",
        "))"
      ]
    },
    {
      "cell_type": "code",
      "execution_count": null,
      "metadata": {
        "id": "PxT_7krJ29N3",
        "outputId": "cd29e202-cdb7-4e11-afef-907309caff88"
      },
      "outputs": [
        {
          "name": "stdout",
          "output_type": "stream",
          "text": [
            "Confusion Matrix: \n",
            "\n",
            " [[6638  365]\n",
            " [1235  762]]\n",
            "Accuracy Score: \n",
            "\n",
            " 0.8222222222222222\n"
          ]
        }
      ],
      "source": [
        "# Create a new random forest classifier with better hyperparameters\n",
        "rf_clf_new = RandomForestClassifier(n_estimators=500)\n",
        "\n",
        "# Fit this to the data and obtain predictions\n",
        "rf_new_predictions = rf_clf_new.fit(X_train, y_train).predict(X_test)\n",
        "\n",
        "# Assess the new model (using new predictions!)\n",
        "print('Confusion Matrix: \\n\\n', confusion_matrix(y_test, rf_new_predictions))\n",
        "print('Accuracy Score: \\n\\n', accuracy_score(y_test, rf_new_predictions))"
      ]
    },
    {
      "cell_type": "markdown",
      "metadata": {
        "id": "fKNu1et729N3"
      },
      "source": [
        "### Hyperparameters of KNN\n",
        "To apply the concepts learned in the prior exercise, it is good practice to try out learnings on a new algorithm. The k-nearest-neighbors algorithm is not as popular as it used to be but can still be an excellent choice for data that has groups of data that behave similarly. Could this be the case for our credit card users?\n",
        "\n",
        "In this case you will try out several different values for one of the core hyperparameters for the knn algorithm and compare performance.\n",
        "\n"
      ]
    },
    {
      "cell_type": "markdown",
      "metadata": {},
      "source": [
        "answer form Datacamp"
      ]
    },
    {
      "cell_type": "code",
      "execution_count": null,
      "metadata": {},
      "outputs": [
        {
          "name": "stdout",
          "output_type": "stream",
          "text": [
            "The accuracy of 5, 10, 20 neighbours was 0.7564444444444445, 0.7786666666666666, 0.7812222222222223\n"
          ]
        }
      ],
      "source": [
        "# Build a knn estimator for each value of n_neighbours\n",
        "knn_5 = KNeighborsClassifier(n_neighbors=5)\n",
        "knn_10 = KNeighborsClassifier(n_neighbors=10)\n",
        "knn_20 = KNeighborsClassifier(n_neighbors=20)\n",
        "\n",
        "# Fit each to the training data & produce predictions\n",
        "knn_5_predictions = knn_5.fit(X_train, y_train).predict(X_test)\n",
        "knn_10_predictions = knn_10.fit(X_train, y_train).predict(X_test)\n",
        "knn_20_predictions = knn_20.fit(X_train, y_train).predict(X_test)\n",
        "\n",
        "# Get an accuracy score for each of the models\n",
        "knn_5_accuracy = accuracy_score(y_test, knn_5_predictions)\n",
        "knn_10_accuracy = accuracy_score(y_test, knn_10_predictions)\n",
        "knn_20_accuracy = accuracy_score(y_test, knn_20_predictions)\n",
        "print(\"The accuracy of 5, 10, 20 neighbours was {}, {}, {}\".format(knn_5_accuracy, knn_10_accuracy, knn_20_accuracy))"
      ]
    },
    {
      "cell_type": "markdown",
      "metadata": {
        "id": "bv7l0XQn29N4"
      },
      "source": [
        "### Setting & Analyzing Hyperparameter Values\n"
      ]
    },
    {
      "cell_type": "markdown",
      "metadata": {
        "id": "cbSk6wd429N4"
      },
      "source": [
        "### Automating Hyperparameter Choice\n",
        "Finding the best hyperparameter of interest without writing hundreds of lines of code for hundreds of models is an important efficiency gain that will greatly assist your future machine learning model building.\n",
        "\n",
        "An important hyperparameter for the GBM algorithm is the learning rate. But which learning rate is best for this problem? By writing a loop to search through a number of possibilities, collating these and viewing them you can find the best one.\n",
        "\n",
        "Possible learning rates to try include 0.001, 0.01, 0.05, 0.1, 0.2 and 0.5"
      ]
    },
    {
      "cell_type": "code",
      "execution_count": null,
      "metadata": {
        "id": "wkq83FcH29N4",
        "outputId": "cfb02eed-c8fb-48f2-fb77-af1a65d095d9"
      },
      "outputs": [
        {
          "name": "stdout",
          "output_type": "stream",
          "text": [
            "   learning_rate  accuracy\n",
            "0          0.001  0.778111\n",
            "1          0.010  0.823000\n",
            "2          0.050  0.826000\n",
            "3          0.100  0.825556\n",
            "4          0.200  0.823333\n",
            "5          0.500  0.818778\n"
          ]
        }
      ],
      "source": [
        "from sklearn.ensemble import GradientBoostingClassifier\n",
        "\n",
        "# Set the learning rates & results storage\n",
        "learning_rates = [0.001, 0.01, 0.05, 0.1, 0.2, 0.5]\n",
        "results_list = []\n",
        "\n",
        "# Create the for loop to evaluate model predictions for each learning rate\n",
        "for learning_rate in learning_rates:\n",
        "    model = GradientBoostingClassifier(learning_rate=learning_rate)\n",
        "    predictions = model.fit(X_train, y_train).predict(X_test)\n",
        "\n",
        "    # Save the learning rate and accuracy score\n",
        "    results_list.append([learning_rate, accuracy_score(y_test, predictions)])\n",
        "\n",
        "# Gather everything into a DataFrame\n",
        "results_df = pd.DataFrame(results_list, columns=['learning_rate', 'accuracy'])\n",
        "print(results_df)"
      ]
    },
    {
      "cell_type": "markdown",
      "metadata": {
        "id": "TJgo_uh529N4"
      },
      "source": [
        "### Building Learning Curves\n",
        "If we want to test many different values for a single hyperparameter it can be difficult to easily view that in the form of a DataFrame. Previously you learned about a nice trick to analyze this. A graph called a 'learning curve' can nicely demonstrate the effect of increasing or decreasing a particular hyperparameter on the final result.\n",
        "\n",
        "Instead of testing only a few values for the learning rate, you will test many to easily see the effect of this hyperparameter across a large range of values. A useful function from NumPy is `np.linspace(start, end, num)` which allows you to create a number of values (`num`) evenly spread within an interval (`start`, `end`) that you specify."
      ]
    },
    {
      "cell_type": "code",
      "execution_count": null,
      "metadata": {
        "id": "F-ZEfVOJ29N4",
        "outputId": "7475bc44-887c-493d-c3e1-ace21982cf1a"
      },
      "outputs": [
        {
          "data": {
            "image/png": "[encoded data removed]",
            "text/plain": [
              "<Figure size 432x288 with 1 Axes>"
            ]
          },
          "metadata": {
            "needs_background": "light"
          },
          "output_type": "display_data"
        }
      ],
      "source": [
        "# Set the learning rates & accuracies list\n",
        "learn_rates = np.linspace(0.01, 2, num=30)\n",
        "accuracies = []\n",
        "\n",
        "# Create the for loop\n",
        "for learn_rate in learn_rates:\n",
        "    # Create the model, predictions & save the accuracies as before\n",
        "    model = GradientBoostingClassifier(learning_rate=learn_rate)\n",
        "    predictions = model.fit(X_train, y_train).predict(X_test)\n",
        "    accuracies.append(accuracy_score(y_test, predictions))\n",
        "\n",
        "# Plot results\n",
        "plt.plot(learn_rates, accuracies);\n",
        "plt.gca().set(xlabel='learning_rate', ylabel='Accuracy', title='Accuracy for different learning_rates');"
      ]
    },
    {
      "cell_type": "markdown",
      "metadata": {
        "id": "yRrOfEyJ29N4"
      },
      "source": [
        "You can see that for low values, you get a pretty good accuracy. However once the learning rate pushes much above 1.5, the accuracy starts to drop."
      ]
    },
    {
      "cell_type": "markdown",
      "metadata": {},
      "source": [
        "## Chapter 2 - Grid search\n",
        "> This chapter introduces you to a popular automated hyperparameter tuning methodology called Grid Search. You will learn what it is, how it works and practice undertaking a Grid Search using Scikit Learn. You will then learn how to analyze the output of a Grid Search & gain practical experience doing this. This is the Summary of lecture \"Hyperparameter Tuning in Python\", via datacamp.\n",
        "\n",
        "- toc: true \n",
        "- badges: true\n",
        "- comments: true\n",
        "- author: Chanseok Kang\n",
        "- categories: [Python, Datacamp, Machine_Learning]\n",
        "- image: "
      ]
    },
    {
      "cell_type": "code",
      "execution_count": 39,
      "metadata": {},
      "outputs": [],
      "source": [
        "import pandas as pd\n",
        "import numpy as np\n",
        "from pprint import pprint"
      ]
    },
    {
      "cell_type": "markdown",
      "metadata": {},
      "source": [
        "### Introducing Grid Search"
      ]
    },
    {
      "cell_type": "markdown",
      "metadata": {},
      "source": [
        "### Build Grid Search functions\n",
        "In data science it is a great idea to try building algorithms, models and processes 'from scratch' so you can really understand what is happening at a deeper level. Of course there are great packages and libraries for this work (and we will get to that very soon!) but building from scratch will give you a great edge in your data science work.\n",
        "\n",
        "In this exercise, you will create a function to take in 2 hyperparameters, build models and return results. You will use this function in a future exercise."
      ]
    },
    {
      "cell_type": "code",
      "execution_count": 41,
      "metadata": {},
      "outputs": [],
      "source": [
        "from sklearn.model_selection import train_test_split\n",
        "\n",
        "credit_card = pd.read_csv('credit-card-full.csv')\n",
        "# To change categorical variable with dummy variables\n",
        "credit_card = pd.get_dummies(credit_card, columns=['SEX', 'EDUCATION', 'MARRIAGE'], drop_first=True)\n",
        "\n",
        "X = credit_card.drop(['ID', 'default payment next month'], axis=1)\n",
        "y = credit_card['default payment next month']\n",
        "\n",
        "X_train, X_test, y_train, y_test = train_test_split(X, y, test_size=0.3, shuffle=True)"
      ]
    },
    {
      "cell_type": "markdown",
      "metadata": {},
      "source": [
        "answer from datacamp"
      ]
    },
    {
      "cell_type": "code",
      "execution_count": 43,
      "metadata": {},
      "outputs": [],
      "source": [
        "# Create the function\n",
        "def gbm_grid_search(learning_rate, max_depth):\n",
        "\n",
        "\t# Create the model\n",
        "    model = GradientBoostingClassifier(learning_rate=learning_rate, max_depth=max_depth)\n",
        "    \n",
        "    # Use the model to make predictions\n",
        "    predictions = model.fit(X_train, y_train).predict(X_test)\n",
        "    \n",
        "    # Return the hyperparameters and score\n",
        "    return([learning_rate, max_depth, accuracy_score(y_test, predictions)])"
      ]
    },
    {
      "cell_type": "markdown",
      "metadata": {},
      "source": [
        "### Iteratively tune multiple hyperparameters\n",
        "In this exercise, you will build on the function you previously created to take in 2 hyperparameters, build a model and return the results. You will now use that to loop through some values and then extend this function and loop with another hyperparameter."
      ]
    },
    {
      "cell_type": "code",
      "execution_count": 45,
      "metadata": {},
      "outputs": [
        {
          "name": "stdout",
          "output_type": "stream",
          "text": [
            "[[0.01, 2, 0.8202222222222222], [0.01, 4, 0.8185555555555556], [0.01, 6, 0.8135555555555556], [0.1, 2, 0.82], [0.1, 4, 0.8194444444444444], [0.1, 6, 0.8168888888888889], [0.5, 2, 0.8155555555555556], [0.5, 4, 0.8001111111111111], [0.5, 6, 0.7881111111111111]]\n"
          ]
        }
      ],
      "source": [
        "# Create the relevant lists\n",
        "results_list = []\n",
        "learn_rate_list = [0.01, 0.1, 0.5]\n",
        "max_depth_list = [2, 4, 6]\n",
        "\n",
        "# Create the for loop\n",
        "for learn_rate in learn_rate_list:\n",
        "    for max_depth in max_depth_list:\n",
        "        results_list.append(gbm_grid_search(learn_rate, max_depth))\n",
        "        \n",
        "# Print the results\n",
        "print(results_list)"
      ]
    },
    {
      "cell_type": "code",
      "execution_count": null,
      "metadata": {},
      "outputs": [],
      "source": [
        "# Extend the function input\n",
        "def gbm_grid_search_extended(learn_rate, max_depth, subsample):\n",
        "    # Extend the model creation section\n",
        "    model = GradientBoostingClassifier(learning_rate=learn_rate, max_depth=max_depth,\n",
        "                                       subsample=subsample)\n",
        "    \n",
        "    predictions = model.fit(X_train, y_train).predict(X_test)\n",
        "    \n",
        "    # Extend the return part\n",
        "    return([learn_rate, max_depth, subsample, accuracy_score(y_test, predictions)])"
      ]
    },
    {
      "cell_type": "code",
      "execution_count": null,
      "metadata": {},
      "outputs": [
        {
          "name": "stdout",
          "output_type": "stream",
          "text": [
            "[[0.01, 2, 0.8214444444444444],\n",
            " [0.01, 4, 0.8198888888888889],\n",
            " [0.01, 6, 0.8172222222222222],\n",
            " [0.1, 2, 0.8205555555555556],\n",
            " [0.1, 4, 0.8204444444444444],\n",
            " [0.1, 6, 0.8204444444444444],\n",
            " [0.5, 2, 0.8188888888888889],\n",
            " [0.5, 4, 0.8042222222222222],\n",
            " [0.5, 6, 0.7894444444444444],\n",
            " [0.01, 2, 0.4, 0.8192222222222222],\n",
            " [0.01, 2, 0.6, 0.8208888888888889],\n",
            " [0.01, 4, 0.4, 0.8183333333333334],\n",
            " [0.01, 4, 0.6, 0.8195555555555556],\n",
            " [0.01, 6, 0.4, 0.8177777777777778],\n",
            " [0.01, 6, 0.6, 0.8196666666666667],\n",
            " [0.1, 2, 0.4, 0.821],\n",
            " [0.1, 2, 0.6, 0.8201111111111111],\n",
            " [0.1, 4, 0.4, 0.8207777777777778],\n",
            " [0.1, 4, 0.6, 0.8196666666666667],\n",
            " [0.1, 6, 0.4, 0.8155555555555556],\n",
            " [0.1, 6, 0.6, 0.8183333333333334],\n",
            " [0.5, 2, 0.4, 0.8128888888888889],\n",
            " [0.5, 2, 0.6, 0.8156666666666667],\n",
            " [0.5, 4, 0.4, 0.7945555555555556],\n",
            " [0.5, 4, 0.6, 0.8065555555555556],\n",
            " [0.5, 6, 0.4, 0.7714444444444445],\n",
            " [0.5, 6, 0.6, 0.7743333333333333]]\n"
          ]
        }
      ],
      "source": [
        "# Create the new list to test\n",
        "subsample_list = [0.4, 0.6]\n",
        "\n",
        "for learn_rate in learn_rate_list:\n",
        "    for max_depth in max_depth_list:\n",
        "        # Extend the for loop\n",
        "        for subsample in subsample_list:\n",
        "            # Extend the results to include the new hyperparameter\n",
        "            results_list.append(gbm_grid_search_extended(learn_rate, max_depth, subsample))\n",
        "            \n",
        "# Print the results\n",
        "pprint(results_list)"
      ]
    },
    {
      "cell_type": "markdown",
      "metadata": {},
      "source": [
        "### Grid Search with Scikit Learn\n",
        "- Steps in a Grid Search\n",
        "    1. An algorithm to tune the hyperparameters (or estimator)\n",
        "    2. Defining which hyperparameters to tune\n",
        "    3. Defining a range of values for each hyperparameter\n",
        "    4. Setting a cross-validatoin scheme\n",
        "    5. Defining a score function so we can decide which square on our grid was 'the best'\n",
        "    6. Include extra useful information or functions"
      ]
    },
    {
      "cell_type": "markdown",
      "metadata": {},
      "source": [
        "### GridSearchCV with Scikit Learn\n",
        "The `GridSearchCV` module from Scikit Learn provides many useful features to assist with efficiently undertaking a grid search. You will now put your learning into practice by creating a `GridSearchCV` object with certain parameters.\n",
        "\n",
        "The desired options are:\n",
        "\n",
        "- A Random Forest Estimator, with the split criterion as 'entropy'\n",
        "- 5-fold cross validation\n",
        "- The hyperparameters `max_depth` (2, 4, 8, 15) and `max_features` ('auto' vs 'sqrt')\n",
        "- Use `roc_auc` to score the models\n",
        "- Use 4 cores for processing in parallel\n",
        "- Ensure you refit the best model and return training scores"
      ]
    },
    {
      "cell_type": "code",
      "execution_count": 47,
      "metadata": {},
      "outputs": [
        {
          "name": "stdout",
          "output_type": "stream",
          "text": [
            "GridSearchCV(cv=5, estimator=RandomForestClassifier(criterion='entropy'),\n",
            "             n_jobs=4,\n",
            "             param_grid={'max_depth': [2, 4, 8, 15],\n",
            "                         'max_features': ['auto', 'sqrt']},\n",
            "             return_train_score=True, scoring='roc_auc')\n"
          ]
        }
      ],
      "source": [
        "from sklearn.model_selection import GridSearchCV\n",
        "from sklearn.ensemble import RandomForestClassifier\n",
        "\n",
        "# Create a Random Forest Classifier with specified criterion\n",
        "rf_class = RandomForestClassifier(criterion='entropy')\n",
        "\n",
        "# Create the parametergrid\n",
        "param_grid = {\n",
        "    'max_depth':[2, 4, 8, 15],\n",
        "    'max_features':['auto', 'sqrt']\n",
        "}\n",
        "\n",
        "# Create a GridSearchCV object\n",
        "grid_rf_class = GridSearchCV(\n",
        "    estimator=rf_class,\n",
        "    param_grid=param_grid,\n",
        "    scoring='roc_auc',\n",
        "    n_jobs=4,\n",
        "    cv=5,\n",
        "    refit=True,\n",
        "    return_train_score=True\n",
        ")\n",
        "\n",
        "print(grid_rf_class)"
      ]
    },
    {
      "cell_type": "markdown",
      "metadata": {},
      "source": [
        "### Understanding a grid search output\n"
      ]
    },
    {
      "cell_type": "markdown",
      "metadata": {},
      "source": [
        "### Exploring the grid search results\n",
        "You will now explore the `cv_results_` property of the GridSearchCV object defined in the video. This is a dictionary that we can read into a pandas DataFrame and contains a lot of useful information about the grid search we just undertook.\n",
        "\n",
        "A reminder of the different column types in this property:\n",
        "\n",
        "- `time_` columns\n",
        "- `param_` columns (one for each hyperparameter) and the singular params column (with all hyperparameter settings)\n",
        "- a `train_score` column for each cv fold including the mean_train_score and std_train_score columns\n",
        "- a `test_score` column for each cv fold including the mean_test_score and std_test_score columns\n",
        "- a `rank_test_score` column with a number from 1 to n (number of iterations) ranking the rows based on their `mean_test_score`"
      ]
    },
    {
      "cell_type": "code",
      "execution_count": 48,
      "metadata": {},
      "outputs": [
        {
          "name": "stderr",
          "output_type": "stream",
          "text": [
            "/home/codespace/.local/lib/python3.10/site-packages/sklearn/model_selection/_validation.py:542: FitFailedWarning: \n",
            "20 fits failed out of a total of 40.\n",
            "The score on these train-test partitions for these parameters will be set to nan.\n",
            "If these failures are not expected, you can try to debug them by setting error_score='raise'.\n",
            "\n",
            "Below are more details about the failures:\n",
            "--------------------------------------------------------------------------------\n",
            "19 fits failed with the following error:\n",
            "Traceback (most recent call last):\n",
            "  File \"/home/codespace/.local/lib/python3.10/site-packages/sklearn/model_selection/_validation.py\", line 890, in _fit_and_score\n",
            "    estimator.fit(X_train, y_train, **fit_params)\n",
            "  File \"/home/codespace/.local/lib/python3.10/site-packages/sklearn/base.py\", line 1344, in wrapper\n",
            "    estimator._validate_params()\n",
            "  File \"/home/codespace/.local/lib/python3.10/site-packages/sklearn/base.py\", line 666, in _validate_params\n",
            "    validate_parameter_constraints(\n",
            "  File \"/home/codespace/.local/lib/python3.10/site-packages/sklearn/utils/_param_validation.py\", line 95, in validate_parameter_constraints\n",
            "    raise InvalidParameterError(\n",
            "sklearn.utils._param_validation.InvalidParameterError: The 'max_features' parameter of RandomForestClassifier must be an int in the range [1, inf), a float in the range (0.0, 1.0], a str among {'log2', 'sqrt'} or None. Got 'auto' instead.\n",
            "\n",
            "--------------------------------------------------------------------------------\n",
            "1 fits failed with the following error:\n",
            "Traceback (most recent call last):\n",
            "  File \"/home/codespace/.local/lib/python3.10/site-packages/sklearn/model_selection/_validation.py\", line 890, in _fit_and_score\n",
            "    estimator.fit(X_train, y_train, **fit_params)\n",
            "  File \"/home/codespace/.local/lib/python3.10/site-packages/sklearn/base.py\", line 1344, in wrapper\n",
            "    estimator._validate_params()\n",
            "  File \"/home/codespace/.local/lib/python3.10/site-packages/sklearn/base.py\", line 666, in _validate_params\n",
            "    validate_parameter_constraints(\n",
            "  File \"/home/codespace/.local/lib/python3.10/site-packages/sklearn/utils/_param_validation.py\", line 95, in validate_parameter_constraints\n",
            "    raise InvalidParameterError(\n",
            "sklearn.utils._param_validation.InvalidParameterError: The 'max_features' parameter of RandomForestClassifier must be an int in the range [1, inf), a float in the range (0.0, 1.0], a str among {'sqrt', 'log2'} or None. Got 'auto' instead.\n",
            "\n",
            "  warnings.warn(some_fits_failed_message, FitFailedWarning)\n",
            "/home/codespace/.local/lib/python3.10/site-packages/sklearn/model_selection/_search.py:1051: UserWarning: One or more of the test scores are non-finite: [       nan 0.76545271        nan 0.77062602        nan 0.77959914\n",
            "        nan 0.77782694]\n",
            "  warnings.warn(\n",
            "/home/codespace/.local/lib/python3.10/site-packages/sklearn/model_selection/_search.py:1051: UserWarning: One or more of the train scores are non-finite: [       nan 0.76811484        nan 0.77764703        nan 0.82980761\n",
            "        nan 0.97360329]\n",
            "  warnings.warn(\n"
          ]
        },
        {
          "name": "stdout",
          "output_type": "stream",
          "text": [
            "   mean_fit_time  std_fit_time  mean_score_time  std_score_time  \\\n",
            "0       0.008394      0.005662         0.000000        0.000000   \n",
            "1       2.391917      0.126908         0.047261        0.007851   \n",
            "2       0.004333      0.003165         0.000000        0.000000   \n",
            "3       4.035311      0.146921         0.049742        0.004109   \n",
            "4       0.004642      0.002176         0.000000        0.000000   \n",
            "5       7.205680      0.164465         0.069315        0.003866   \n",
            "6       0.009042      0.003439         0.000000        0.000000   \n",
            "7      10.174682      2.017540         0.094152        0.036486   \n",
            "\n",
            "  param_max_depth param_max_features  \\\n",
            "0               2               auto   \n",
            "1               2               sqrt   \n",
            "2               4               auto   \n",
            "3               4               sqrt   \n",
            "4               8               auto   \n",
            "5               8               sqrt   \n",
            "6              15               auto   \n",
            "7              15               sqrt   \n",
            "\n",
            "                                      params  split0_test_score  \\\n",
            "0   {'max_depth': 2, 'max_features': 'auto'}                NaN   \n",
            "1   {'max_depth': 2, 'max_features': 'sqrt'}           0.768416   \n",
            "2   {'max_depth': 4, 'max_features': 'auto'}                NaN   \n",
            "3   {'max_depth': 4, 'max_features': 'sqrt'}           0.772087   \n",
            "4   {'max_depth': 8, 'max_features': 'auto'}                NaN   \n",
            "5   {'max_depth': 8, 'max_features': 'sqrt'}           0.782066   \n",
            "6  {'max_depth': 15, 'max_features': 'auto'}                NaN   \n",
            "7  {'max_depth': 15, 'max_features': 'sqrt'}           0.783712   \n",
            "\n",
            "   split1_test_score  split2_test_score  ...  mean_test_score  std_test_score  \\\n",
            "0                NaN                NaN  ...              NaN             NaN   \n",
            "1           0.768541           0.747843  ...         0.765453        0.009719   \n",
            "2                NaN                NaN  ...              NaN             NaN   \n",
            "3           0.775769           0.752432  ...         0.770626        0.010116   \n",
            "4                NaN                NaN  ...              NaN             NaN   \n",
            "5           0.782138           0.762919  ...         0.779599        0.008779   \n",
            "6                NaN                NaN  ...              NaN             NaN   \n",
            "7           0.779104           0.761317  ...         0.777827        0.009510   \n",
            "\n",
            "   rank_test_score  split0_train_score  split1_train_score  \\\n",
            "0                5                 NaN                 NaN   \n",
            "1                4            0.768324            0.766217   \n",
            "2                5                 NaN                 NaN   \n",
            "3                3            0.777497            0.777186   \n",
            "4                5                 NaN                 NaN   \n",
            "5                1            0.829966            0.831148   \n",
            "6                5                 NaN                 NaN   \n",
            "7                2            0.974648            0.973620   \n",
            "\n",
            "   split2_train_score  split3_train_score  split4_train_score  \\\n",
            "0                 NaN                 NaN                 NaN   \n",
            "1            0.773517            0.768502            0.764014   \n",
            "2                 NaN                 NaN                 NaN   \n",
            "3            0.782052            0.776943            0.774558   \n",
            "4                 NaN                 NaN                 NaN   \n",
            "5            0.830005            0.828884            0.829034   \n",
            "6                 NaN                 NaN                 NaN   \n",
            "7            0.974143            0.972868            0.972737   \n",
            "\n",
            "   mean_train_score  std_train_score  \n",
            "0               NaN              NaN  \n",
            "1          0.768115         0.003156  \n",
            "2               NaN              NaN  \n",
            "3          0.777647         0.002436  \n",
            "4               NaN              NaN  \n",
            "5          0.829808         0.000814  \n",
            "6               NaN              NaN  \n",
            "7          0.973603         0.000731  \n",
            "\n",
            "[8 rows x 22 columns]\n",
            "                                      params\n",
            "0   {'max_depth': 2, 'max_features': 'auto'}\n",
            "1   {'max_depth': 2, 'max_features': 'sqrt'}\n",
            "2   {'max_depth': 4, 'max_features': 'auto'}\n",
            "3   {'max_depth': 4, 'max_features': 'sqrt'}\n",
            "4   {'max_depth': 8, 'max_features': 'auto'}\n",
            "5   {'max_depth': 8, 'max_features': 'sqrt'}\n",
            "6  {'max_depth': 15, 'max_features': 'auto'}\n",
            "7  {'max_depth': 15, 'max_features': 'sqrt'}\n",
            "   mean_fit_time  std_fit_time  mean_score_time  std_score_time  \\\n",
            "5        7.20568      0.164465         0.069315        0.003866   \n",
            "\n",
            "  param_max_depth param_max_features  \\\n",
            "5               8               sqrt   \n",
            "\n",
            "                                     params  split0_test_score  \\\n",
            "5  {'max_depth': 8, 'max_features': 'sqrt'}           0.782066   \n",
            "\n",
            "   split1_test_score  split2_test_score  ...  mean_test_score  std_test_score  \\\n",
            "5           0.782138           0.762919  ...         0.779599        0.008779   \n",
            "\n",
            "   rank_test_score  split0_train_score  split1_train_score  \\\n",
            "5                1            0.829966            0.831148   \n",
            "\n",
            "   split2_train_score  split3_train_score  split4_train_score  \\\n",
            "5            0.830005            0.828884            0.829034   \n",
            "\n",
            "   mean_train_score  std_train_score  \n",
            "5          0.829808         0.000814  \n",
            "\n",
            "[1 rows x 22 columns]\n"
          ]
        }
      ],
      "source": [
        "grid_rf_class.fit(X_train, y_train)\n",
        "\n",
        "# Read the cv_results property into adataframe & print it out\n",
        "cv_results_df = pd.DataFrame(grid_rf_class.cv_results_)\n",
        "print(cv_results_df)\n",
        "\n",
        "# Extract and print the column with a dictionary of hyperparameters used\n",
        "column = cv_results_df.loc[:, [\"params\"]]\n",
        "print(column)\n",
        "\n",
        "# Extract and print the row that had the best mean test score\n",
        "best_row = cv_results_df[cv_results_df['rank_test_score'] == 1]\n",
        "print(best_row)"
      ]
    },
    {
      "cell_type": "markdown",
      "metadata": {},
      "source": [
        "### Analyzing the best results\n",
        "At the end of the day, we primarily care about the best performing 'square' in a grid search. Luckily Scikit Learn's `gridSearchCV` objects have a number of parameters that provide key information on just the best square (or row in `cv_results_`).\n",
        "\n",
        "Three properties you will explore are:\n",
        "\n",
        "- `best_score_` – The score (here ROC_AUC) from the best-performing square.\n",
        "- `best_index_` – The index of the row in `cv_results_` containing information on the best-performing square.\n",
        "- `best_params_` – A dictionary of the parameters that gave the best score, for example 'max_depth': 10"
      ]
    },
    {
      "cell_type": "code",
      "execution_count": 50,
      "metadata": {},
      "outputs": [
        {
          "name": "stdout",
          "output_type": "stream",
          "text": [
            "0.7795991402464372\n",
            "   mean_fit_time  std_fit_time  mean_score_time  std_score_time  \\\n",
            "5        7.20568      0.164465         0.069315        0.003866   \n",
            "\n",
            "  param_max_depth param_max_features  \\\n",
            "5               8               sqrt   \n",
            "\n",
            "                                     params  split0_test_score  \\\n",
            "5  {'max_depth': 8, 'max_features': 'sqrt'}           0.782066   \n",
            "\n",
            "   split1_test_score  split2_test_score  ...  mean_test_score  std_test_score  \\\n",
            "5           0.782138           0.762919  ...         0.779599        0.008779   \n",
            "\n",
            "   rank_test_score  split0_train_score  split1_train_score  \\\n",
            "5                1            0.829966            0.831148   \n",
            "\n",
            "   split2_train_score  split3_train_score  split4_train_score  \\\n",
            "5            0.830005            0.828884            0.829034   \n",
            "\n",
            "   mean_train_score  std_train_score  \n",
            "5          0.829808         0.000814  \n",
            "\n",
            "[1 rows x 22 columns]\n",
            "8\n"
          ]
        }
      ],
      "source": [
        "# Print out the ROC_AUC score from the best-performing square\n",
        "best_score = grid_rf_class.best_score_\n",
        "print(best_score)\n",
        "\n",
        "# Create a variable from the row related to the best-performing square\n",
        "cv_results_df = pd.DataFrame(grid_rf_class.cv_results_)\n",
        "best_row = cv_results_df.loc[[grid_rf_class.best_index_]]\n",
        "print(best_row)\n",
        "\n",
        "# Get the max_depth parameter from the best-performing square and print\n",
        "best_max_depth = grid_rf_class.best_params_['max_depth']\n",
        "print(best_max_depth)"
      ]
    },
    {
      "cell_type": "markdown",
      "metadata": {},
      "source": [
        "### Using the best results\n",
        "While it is interesting to analyze the results of our grid search, our final goal is practical in nature; we want to make predictions on our test set using our estimator object.\n",
        "\n",
        "We can access this object through the `best_estimator_` property of our grid search object.\n",
        "\n",
        "In this exercise we will take a look inside the `best_estimator_` property and then use this to make predictions on our test set for credit card defaults and generate a variety of scores. Remember to use `predict_proba` rather than `predict` since we need probability values rather than class labels for our roc_auc score. We use a slice `[:,1]` to get probabilities of the positive class."
      ]
    },
    {
      "cell_type": "code",
      "execution_count": null,
      "metadata": {},
      "outputs": [
        {
          "name": "stdout",
          "output_type": "stream",
          "text": [
            "<class 'sklearn.ensemble._forest.RandomForestClassifier'>\n",
            "[1 0 0 1 0]\n",
            "Confusion Matrix \n",
            " [[6685  323]\n",
            " [1292  700]]\n",
            "ROC-AUC Score \n",
            " 0.7767071783137115\n"
          ]
        }
      ],
      "source": [
        "from sklearn.metrics import confusion_matrix, roc_auc_score\n",
        "\n",
        "# See what type of object the best_estimator_property is\n",
        "print(type(grid_rf_class.best_estimator_))\n",
        "\n",
        "# Create an array of predictions directly using the best_estimator_property\n",
        "predictions = grid_rf_class.best_estimator_.predict(X_test)\n",
        "\n",
        "# Take a look to confirm it worked, this should be an array of 1's and 0's\n",
        "print(predictions[0:5])\n",
        "\n",
        "# Now create a confusion matrix\n",
        "print(\"Confusion Matrix \\n\", confusion_matrix(y_test, predictions))\n",
        "\n",
        "# Get the ROC-AUC score\n",
        "predictions_proba = grid_rf_class.best_estimator_.predict_proba(X_test)[:, 1]\n",
        "print(\"ROC-AUC Score \\n\", roc_auc_score(y_test, predictions_proba))"
      ]
    },
    {
      "cell_type": "markdown",
      "metadata": {},
      "source": [
        "The `.best_estimator_` property is a really powerful property to understand for streamlining your machine learning model building process. You now can run a grid search and seamlessly use the best model from that search to make predictions."
      ]
    },
    {
      "cell_type": "markdown",
      "metadata": {},
      "source": []
    }
  ],
  "metadata": {
    "colab": {
      "provenance": []
    },
    "kernelspec": {
      "display_name": "Python 3",
      "language": "python",
      "name": "python3"
    },
    "language_info": {
      "codemirror_mode": {
        "name": "ipython",
        "version": 3
      },
      "file_extension": ".py",
      "mimetype": "text/x-python",
      "name": "python",
      "nbconvert_exporter": "python",
      "pygments_lexer": "ipython3",
      "version": "3.10.13"
    }
  },
  "nbformat": 4,
  "nbformat_minor": 0
}
