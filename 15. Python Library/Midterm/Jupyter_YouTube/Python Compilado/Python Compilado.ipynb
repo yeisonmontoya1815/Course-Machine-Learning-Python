{
 "cells": [
  {
   "cell_type": "markdown",
   "metadata": {},
   "source": [
    "### NumPy - Exercise Complete Baseball\n",
    "\n",
    "In this exercise, our goal is to harness the capabilities of Python, specifically leveraging key libraries such as `numpy` and `pandas`, to conduct a thorough analysis of a baseball dataset. Through the use of `pandas`, we read the dataset into a DataFrame, allowing us to explore and extract pertinent information such as player weights and heights. The subsequent conversion of these data points into NumPy arrays enables us to perform essential array operations, access individual elements, and create a 2D array for more in-depth analysis. As we delve into array properties, calculate basic statistics on height, including average and median, and explore the correlation between height and weight, this Jupyter Notebook serves as an interactive guide, providing a hands-on experience in utilizing Python for data manipulation and statistical insights, all within the fascinating context of baseball analytics.\n"
   ]
  },
  {
   "cell_type": "code",
   "execution_count": 1,
   "metadata": {},
   "outputs": [
    {
     "name": "stdout",
     "output_type": "stream",
     "text": [
      "              Name Team Position  Height  Weight    Age PosCategory\n",
      "0    Adam_Donachie  BAL  Catcher      74     180  22.99     Catcher\n",
      "1        Paul_Bako  BAL  Catcher      74     215  34.69     Catcher\n",
      "2  Ramon_Hernandez  BAL  Catcher      72     210  30.78     Catcher\n",
      "Weight at index 50: 195\n",
      "Height from index 100 to 110: [74 73 74 72 73 69 72 73 75 75 73]\n",
      "Type of np_baseball: <class 'numpy.ndarray'>\n",
      "Shape of np_baseball: (1015, 2)\n",
      "50th row of np_baseball: [ 70 195]\n",
      "Height of 124th player: 75\n",
      "Average Height: 73.6896551724138\n",
      "Median Height: 74.0\n",
      "Standard Deviation of Height: 2.312791881046546\n",
      "Correlation between Height and Weight: 0.5315393226146092\n",
      "Mean of Height: 73.6896551724138\n",
      "Median of Height: 74.0\n"
     ]
    }
   ],
   "source": [
    "# Import necessary libraries\n",
    "import pandas as pd\n",
    "import numpy as np\n",
    "\n",
    "# Step 1: Read the MLB (Baseball) dataset into a pandas DataFrame\n",
    "mlb = pd.read_csv(\"MLB (Baseball).txt\")\n",
    "print(mlb.head(3))  # Print the first 3 rows of the DataFrame\n",
    "\n",
    "# Step 2: Extract weight and height columns from the DataFrame\n",
    "weight_lb = mlb['Weight'].tolist()\n",
    "height_in = mlb['Height'].tolist()\n",
    "\n",
    "# Step 3: Store weight and height lists as numpy arrays\n",
    "np_weight_lb = np.array(weight_lb)\n",
    "np_height_in = np.array(height_in)\n",
    "\n",
    "# Step 4: Access individual elements in the arrays\n",
    "print(\"Weight at index 50:\", np_weight_lb[49])  # Indexing starts from 0\n",
    "print(\"Height from index 100 to 110:\", np_height_in[99:110])\n",
    "\n",
    "# Step 5: Create np_baseball from the DataFrame\n",
    "np_baseball = mlb[['Height', 'Weight']].to_numpy()\n",
    "\n",
    "# Step 6: Explore the properties of np_baseball\n",
    "print(\"Type of np_baseball:\", type(np_baseball))\n",
    "print(\"Shape of np_baseball:\", np_baseball.shape)\n",
    "print(\"50th row of np_baseball:\", np_baseball[49, :])\n",
    "print(\"Height of 124th player:\", np_baseball[123, 0])\n",
    "\n",
    "# Step 7: Calculate statistics for height, same way to do for \"weight\"\n",
    "avg_height = np.mean(np_baseball[:, 0])\n",
    "med_height = np.median(np_baseball[:, 0])\n",
    "stddev_height = np.std(np_baseball[:, 0])\n",
    "corr_height_weight = np.corrcoef(np_baseball[:, 0], np_baseball[:, 1])\n",
    "\n",
    "# Step 8: Print height statistics, same way to do for \"weight\"\n",
    "print(\"Average Height:\", avg_height)\n",
    "print(\"Median Height:\", med_height)\n",
    "print(\"Standard Deviation of Height:\", stddev_height)\n",
    "print(\"Correlation between Height and Weight:\", corr_height_weight[0, 1])\n",
    "\n",
    "# Step 9: Print additional statistics for height, same way to do for \"weight\"\n",
    "print(\"Mean of Height:\", np.mean(np_height_in))\n",
    "print(\"Median of Height:\", np.median(np_height_in))\n"
   ]
  }
 ],
 "metadata": {
  "kernelspec": {
   "display_name": "Python 3",
   "language": "python",
   "name": "python3"
  },
  "language_info": {
   "codemirror_mode": {
    "name": "ipython",
    "version": 3
   },
   "file_extension": ".py",
   "mimetype": "text/x-python",
   "name": "python",
   "nbconvert_exporter": "python",
   "pygments_lexer": "ipython3",
   "version": "3.12.0"
  }
 },
 "nbformat": 4,
 "nbformat_minor": 2
}
