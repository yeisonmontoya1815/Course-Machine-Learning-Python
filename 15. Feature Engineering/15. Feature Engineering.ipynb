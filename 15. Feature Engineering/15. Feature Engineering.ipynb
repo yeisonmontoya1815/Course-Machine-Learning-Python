{
  "cells": [
    {
      "cell_type": "markdown",
      "metadata": {
        "colab_type": "text",
        "id": "blXAIWH0h5QX"
      },
      "source": [
        "# **15. Feature Engineering in Python**\n",
        "\n",
        "This assignment has been adapted from the course **Feature Engineering for Machine Learning in Python** On DataCamp. \n",
        "\n",
        "We will explore what feature engineering is and how to get started with applying it to real-world data. We will be working with a modified subset of the [Stackoverflow survey response data](https://insights.stackoverflow.com/survey/2018/#overview). This data set records the details, and preferences of thousands of users of the StackOverflow website. "
      ]
    },
    {
      "cell_type": "markdown",
      "metadata": {
        "colab_type": "text",
        "id": "V8OJHHSFhkVo"
      },
      "source": [
        "## Creating Features \n",
        "---"
      ]
    },
    {
      "cell_type": "code",
      "execution_count": 1,
      "metadata": {
        "colab": {},
        "colab_type": "code",
        "id": "xxrLsTxvi4Ef"
      },
      "outputs": [],
      "source": [
        "import pandas as pd \n",
        "import numpy as np \n",
        "import matplotlib.pyplot as plt\n",
        "import seaborn as sns "
      ]
    },
    {
      "cell_type": "markdown",
      "metadata": {
        "colab_type": "text",
        "id": "lw55w5YsB6jE"
      },
      "source": [
        "---\n",
        "### Inspect your data\n",
        "---\n"
      ]
    },
    {
      "cell_type": "code",
      "execution_count": 2,
      "metadata": {
        "colab": {},
        "colab_type": "code",
        "id": "fCpuZS41h35f"
      },
      "outputs": [
        {
          "data": {
            "text/html": [
              "<div>\n",
              "<style scoped>\n",
              "    .dataframe tbody tr th:only-of-type {\n",
              "        vertical-align: middle;\n",
              "    }\n",
              "\n",
              "    .dataframe tbody tr th {\n",
              "        vertical-align: top;\n",
              "    }\n",
              "\n",
              "    .dataframe thead th {\n",
              "        text-align: right;\n",
              "    }\n",
              "</style>\n",
              "<table border=\"1\" class=\"dataframe\">\n",
              "  <thead>\n",
              "    <tr style=\"text-align: right;\">\n",
              "      <th></th>\n",
              "      <th>SurveyDate</th>\n",
              "      <th>FormalEducation</th>\n",
              "      <th>ConvertedSalary</th>\n",
              "      <th>Hobby</th>\n",
              "      <th>Country</th>\n",
              "      <th>StackOverflowJobsRecommend</th>\n",
              "      <th>VersionControl</th>\n",
              "      <th>Age</th>\n",
              "      <th>Years Experience</th>\n",
              "      <th>Gender</th>\n",
              "      <th>RawSalary</th>\n",
              "    </tr>\n",
              "  </thead>\n",
              "  <tbody>\n",
              "    <tr>\n",
              "      <th>0</th>\n",
              "      <td>2/28/18 20:20</td>\n",
              "      <td>Bachelor's degree (BA. BS. B.Eng.. etc.)</td>\n",
              "      <td>NaN</td>\n",
              "      <td>Yes</td>\n",
              "      <td>South Africa</td>\n",
              "      <td>NaN</td>\n",
              "      <td>Git</td>\n",
              "      <td>21</td>\n",
              "      <td>13</td>\n",
              "      <td>Male</td>\n",
              "      <td>NaN</td>\n",
              "    </tr>\n",
              "    <tr>\n",
              "      <th>1</th>\n",
              "      <td>6/28/18 13:26</td>\n",
              "      <td>Bachelor's degree (BA. BS. B.Eng.. etc.)</td>\n",
              "      <td>70841.0</td>\n",
              "      <td>Yes</td>\n",
              "      <td>Sweeden</td>\n",
              "      <td>7.0</td>\n",
              "      <td>Git;Subversion</td>\n",
              "      <td>38</td>\n",
              "      <td>9</td>\n",
              "      <td>Male</td>\n",
              "      <td>70,841.00</td>\n",
              "    </tr>\n",
              "  </tbody>\n",
              "</table>\n",
              "</div>"
            ],
            "text/plain": [
              "      SurveyDate                           FormalEducation  ConvertedSalary  \\\n",
              "0  2/28/18 20:20  Bachelor's degree (BA. BS. B.Eng.. etc.)              NaN   \n",
              "1  6/28/18 13:26  Bachelor's degree (BA. BS. B.Eng.. etc.)          70841.0   \n",
              "\n",
              "  Hobby       Country  StackOverflowJobsRecommend  VersionControl  Age  \\\n",
              "0   Yes  South Africa                         NaN             Git   21   \n",
              "1   Yes       Sweeden                         7.0  Git;Subversion   38   \n",
              "\n",
              "   Years Experience Gender  RawSalary  \n",
              "0                13   Male        NaN  \n",
              "1                 9   Male  70,841.00  "
            ]
          },
          "execution_count": 2,
          "metadata": {},
          "output_type": "execute_result"
        }
      ],
      "source": [
        "# Import so_survey_csv into so_survey_df\n",
        "so_survey_df = pd.read_csv(\"Combined_DS_v10.csv\")\n",
        "so_survey_df.head(2)\n"
      ]
    },
    {
      "cell_type": "markdown",
      "metadata": {
        "colab_type": "text",
        "id": "yO7TR7EGBgDP"
      },
      "source": [
        "Instructions: For the `so_survey_df` DataFrame, \n",
        "* Print its shape and its first five rows. \n",
        "* Print the data type of each column.  "
      ]
    },
    {
      "cell_type": "code",
      "execution_count": 3,
      "metadata": {
        "colab": {
          "base_uri": "https://localhost:8080/",
          "height": 445
        },
        "colab_type": "code",
        "id": "AnOe9Ry8VB0H",
        "outputId": "726e34f3-8c04-4658-8ba6-f8f866f91729"
      },
      "outputs": [
        {
          "name": "stdout",
          "output_type": "stream",
          "text": [
            "(999, 11)\n"
          ]
        },
        {
          "data": {
            "text/html": [
              "<div>\n",
              "<style scoped>\n",
              "    .dataframe tbody tr th:only-of-type {\n",
              "        vertical-align: middle;\n",
              "    }\n",
              "\n",
              "    .dataframe tbody tr th {\n",
              "        vertical-align: top;\n",
              "    }\n",
              "\n",
              "    .dataframe thead th {\n",
              "        text-align: right;\n",
              "    }\n",
              "</style>\n",
              "<table border=\"1\" class=\"dataframe\">\n",
              "  <thead>\n",
              "    <tr style=\"text-align: right;\">\n",
              "      <th></th>\n",
              "      <th>SurveyDate</th>\n",
              "      <th>FormalEducation</th>\n",
              "      <th>ConvertedSalary</th>\n",
              "      <th>Hobby</th>\n",
              "      <th>Country</th>\n",
              "      <th>StackOverflowJobsRecommend</th>\n",
              "      <th>VersionControl</th>\n",
              "      <th>Age</th>\n",
              "      <th>Years Experience</th>\n",
              "      <th>Gender</th>\n",
              "      <th>RawSalary</th>\n",
              "    </tr>\n",
              "  </thead>\n",
              "  <tbody>\n",
              "    <tr>\n",
              "      <th>0</th>\n",
              "      <td>2/28/18 20:20</td>\n",
              "      <td>Bachelor's degree (BA. BS. B.Eng.. etc.)</td>\n",
              "      <td>NaN</td>\n",
              "      <td>Yes</td>\n",
              "      <td>South Africa</td>\n",
              "      <td>NaN</td>\n",
              "      <td>Git</td>\n",
              "      <td>21</td>\n",
              "      <td>13</td>\n",
              "      <td>Male</td>\n",
              "      <td>NaN</td>\n",
              "    </tr>\n",
              "    <tr>\n",
              "      <th>1</th>\n",
              "      <td>6/28/18 13:26</td>\n",
              "      <td>Bachelor's degree (BA. BS. B.Eng.. etc.)</td>\n",
              "      <td>70841.0</td>\n",
              "      <td>Yes</td>\n",
              "      <td>Sweeden</td>\n",
              "      <td>7.0</td>\n",
              "      <td>Git;Subversion</td>\n",
              "      <td>38</td>\n",
              "      <td>9</td>\n",
              "      <td>Male</td>\n",
              "      <td>70,841.00</td>\n",
              "    </tr>\n",
              "    <tr>\n",
              "      <th>2</th>\n",
              "      <td>6/6/18 3:37</td>\n",
              "      <td>Bachelor's degree (BA. BS. B.Eng.. etc.)</td>\n",
              "      <td>NaN</td>\n",
              "      <td>No</td>\n",
              "      <td>Sweeden</td>\n",
              "      <td>8.0</td>\n",
              "      <td>Git</td>\n",
              "      <td>45</td>\n",
              "      <td>11</td>\n",
              "      <td>NaN</td>\n",
              "      <td>NaN</td>\n",
              "    </tr>\n",
              "    <tr>\n",
              "      <th>3</th>\n",
              "      <td>5/9/18 1:06</td>\n",
              "      <td>Some college/university study without earning ...</td>\n",
              "      <td>21426.0</td>\n",
              "      <td>Yes</td>\n",
              "      <td>Sweeden</td>\n",
              "      <td>NaN</td>\n",
              "      <td>Zip file back-ups</td>\n",
              "      <td>46</td>\n",
              "      <td>12</td>\n",
              "      <td>Male</td>\n",
              "      <td>21,426.00</td>\n",
              "    </tr>\n",
              "    <tr>\n",
              "      <th>4</th>\n",
              "      <td>4/12/18 22:41</td>\n",
              "      <td>Bachelor's degree (BA. BS. B.Eng.. etc.)</td>\n",
              "      <td>41671.0</td>\n",
              "      <td>Yes</td>\n",
              "      <td>UK</td>\n",
              "      <td>8.0</td>\n",
              "      <td>Git</td>\n",
              "      <td>39</td>\n",
              "      <td>7</td>\n",
              "      <td>Male</td>\n",
              "      <td>£41,671.00</td>\n",
              "    </tr>\n",
              "  </tbody>\n",
              "</table>\n",
              "</div>"
            ],
            "text/plain": [
              "      SurveyDate                                    FormalEducation  \\\n",
              "0  2/28/18 20:20           Bachelor's degree (BA. BS. B.Eng.. etc.)   \n",
              "1  6/28/18 13:26           Bachelor's degree (BA. BS. B.Eng.. etc.)   \n",
              "2    6/6/18 3:37           Bachelor's degree (BA. BS. B.Eng.. etc.)   \n",
              "3    5/9/18 1:06  Some college/university study without earning ...   \n",
              "4  4/12/18 22:41           Bachelor's degree (BA. BS. B.Eng.. etc.)   \n",
              "\n",
              "   ConvertedSalary Hobby       Country  StackOverflowJobsRecommend  \\\n",
              "0              NaN   Yes  South Africa                         NaN   \n",
              "1          70841.0   Yes       Sweeden                         7.0   \n",
              "2              NaN    No       Sweeden                         8.0   \n",
              "3          21426.0   Yes       Sweeden                         NaN   \n",
              "4          41671.0   Yes            UK                         8.0   \n",
              "\n",
              "      VersionControl  Age  Years Experience Gender   RawSalary  \n",
              "0                Git   21                13   Male         NaN  \n",
              "1     Git;Subversion   38                 9   Male   70,841.00  \n",
              "2                Git   45                11    NaN         NaN  \n",
              "3  Zip file back-ups   46                12   Male   21,426.00  \n",
              "4                Git   39                 7   Male  £41,671.00  "
            ]
          },
          "execution_count": 3,
          "metadata": {},
          "output_type": "execute_result"
        }
      ],
      "source": [
        "print(so_survey_df.shape)\n",
        "so_survey_df.head()"
      ]
    },
    {
      "cell_type": "markdown",
      "metadata": {
        "colab_type": "text",
        "id": "1MzXp3T8Cl8W"
      },
      "source": [
        "---\n",
        "### Selecting specific data types\n",
        "---\n",
        "Often a data set will contain columns with several different data types (like the one we are working with). The majority of machine learning models require us to have a consistent data type across features. Similarly, most feature engineering techniques are applicable to only one type of data at a time. "
      ]
    },
    {
      "cell_type": "markdown",
      "metadata": {
        "colab_type": "text",
        "id": "glnEQlrVCobL"
      },
      "source": [
        "Instructions:\n",
        "\n",
        "* Create a subset of `so_survey_df` consisting of only the numeric (int and float) columns and save it as `so_numeric_df`. \n",
        "* Print the column names contained in `so_numeric_df`. "
      ]
    },
    {
      "cell_type": "code",
      "execution_count": 13,
      "metadata": {
        "colab": {
          "base_uri": "https://localhost:8080/",
          "height": 204
        },
        "colab_type": "code",
        "id": "a1XFMbLXVugl",
        "outputId": "e8a7627f-849a-4be4-abae-eb3bc219ecdf"
      },
      "outputs": [
        {
          "name": "stdout",
          "output_type": "stream",
          "text": [
            "Index(['ConvertedSalary', 'StackOverflowJobsRecommend', 'Age',\n",
            "       'Years Experience', 'Paid_Job'],\n",
            "      dtype='object')\n"
          ]
        }
      ],
      "source": [
        "# Create subset of only the numeric columns\n",
        "so_numeric_df = so_survey_df.select_dtypes(include=['int', 'float'])\n",
        "# Print the column names contained in so_survey_df_num\n",
        "print(so_numeric_df.columns)"
      ]
    },
    {
      "cell_type": "markdown",
      "metadata": {
        "colab_type": "text",
        "id": "O_4kpncQDXuj"
      },
      "source": [
        "---\n",
        "### One-hot encoding and dummy variables\n",
        "---\n",
        "To use categorical variables in a machine learning model, we first need to represent them in a quantitative way. The two most common approaches are to one-hot encode the variables using or to use dummy variables. "
      ]
    },
    {
      "cell_type": "markdown",
      "metadata": {
        "colab_type": "text",
        "id": "oRQM6bVaDhnT"
      },
      "source": [
        "Instructions:\n",
        "\n",
        "* One-hot encode the `Country` column of `so_survey_df` DataFrame, adding \"OH\" as a prefix for each column.\n",
        "* Create dummy variables for the `Country` column, adding \"DM\" as a prefix for each column."
      ]
    },
    {
      "cell_type": "code",
      "execution_count": 5,
      "metadata": {
        "colab": {
          "base_uri": "https://localhost:8080/",
          "height": 68
        },
        "colab_type": "code",
        "id": "f3UKo_dlWLEw",
        "outputId": "fcaa7558-423c-4283-c598-a7be0fbf3310"
      },
      "outputs": [
        {
          "name": "stdout",
          "output_type": "stream",
          "text": [
            "Index(['OH_France', 'OH_India', 'OH_Ireland', 'OH_Russia', 'OH_South Africa',\n",
            "       'OH_Spain', 'OH_Sweeden', 'OH_UK', 'OH_USA', 'OH_Ukraine'],\n",
            "      dtype='object')\n"
          ]
        }
      ],
      "source": [
        "dummy0 = pd.get_dummies(so_survey_df.Country,prefix=\"OH\")\n",
        "dummy0.head()\n",
        "print(dummy0.columns)"
      ]
    },
    {
      "cell_type": "code",
      "execution_count": 14,
      "metadata": {},
      "outputs": [
        {
          "name": "stdout",
          "output_type": "stream",
          "text": [
            "Index(['SurveyDate', 'FormalEducation', 'ConvertedSalary', 'Hobby',\n",
            "       'StackOverflowJobsRecommend', 'VersionControl', 'Age',\n",
            "       'Years Experience', 'Gender', 'RawSalary', 'Paid_Job', 'DM_India',\n",
            "       'DM_Ireland', 'DM_Russia', 'DM_South Africa', 'DM_Spain', 'DM_Sweeden',\n",
            "       'DM_UK', 'DM_USA', 'DM_Ukraine'],\n",
            "      dtype='object')\n"
          ]
        }
      ],
      "source": [
        "# Create dummy variables for the Country column\n",
        "dummy = pd.get_dummies(so_survey_df, columns=['Country'], \n",
        "                drop_first=True, prefix='DM')\n",
        "\n",
        "# Print the columns names\n",
        "print(dummy.columns)"
      ]
    },
    {
      "cell_type": "markdown",
      "metadata": {
        "colab_type": "text",
        "id": "UZ56-6j9oz4H"
      },
      "source": [
        "---\n",
        "### Dealing with uncommon categories\n",
        "---\n",
        "Some features can have many different categories but a very uneven distribution of their occurrences. Take for example Data Science's favorite languages to code in, some common choices are Python, R, and Julia, but there can be individuals with bespoke choices, like FORTRAN, C etc. In these cases, we may not want to create a feature for each value, but only the more common occurrences."
      ]
    },
    {
      "cell_type": "markdown",
      "metadata": {
        "colab_type": "text",
        "id": "1z1TCKQ7EHcb"
      },
      "source": [
        "Instructions:\n",
        "\n",
        "* Extract the `Country` column of `so_survey_df` as a series and assign it to `countries`.\n",
        "* Find the counts of each category in the newly created `countries` series."
      ]
    },
    {
      "cell_type": "code",
      "execution_count": 7,
      "metadata": {
        "colab": {
          "base_uri": "https://localhost:8080/",
          "height": 204
        },
        "colab_type": "code",
        "id": "sPwG3k1vpDO8",
        "outputId": "f8436b0c-7cee-47f5-c69c-3a4215f9ec23"
      },
      "outputs": [
        {
          "name": "stdout",
          "output_type": "stream",
          "text": [
            "Country\n",
            "South Africa    166\n",
            "USA             164\n",
            "Spain           134\n",
            "Sweeden         119\n",
            "France          115\n",
            "Russia           97\n",
            "UK               95\n",
            "India            95\n",
            "Ukraine           9\n",
            "Ireland           5\n",
            "Name: count, dtype: int64\n"
          ]
        }
      ],
      "source": [
        "countries = so_survey_df.Country\n",
        "print(countries.value_counts())\n",
        "count = countries.value_counts()"
      ]
    },
    {
      "cell_type": "markdown",
      "metadata": {
        "colab_type": "text",
        "id": "lKxW1Z70EW5W"
      },
      "source": [
        "Instructions:\n",
        "\n",
        "* Create a mask for values occurring less than 10 times in `country_counts`.\n",
        "* Print the first 5 rows of the mask."
      ]
    },
    {
      "cell_type": "code",
      "execution_count": 8,
      "metadata": {
        "colab": {
          "base_uri": "https://localhost:8080/",
          "height": 119
        },
        "colab_type": "code",
        "id": "UMdLvtvtpcVT",
        "outputId": "42a2d385-df68-4d3c-801f-05037eb4caf5"
      },
      "outputs": [
        {
          "data": {
            "text/plain": [
              "0    False\n",
              "1    False\n",
              "2    False\n",
              "3    False\n",
              "4    False\n",
              "Name: Country, dtype: bool"
            ]
          },
          "execution_count": 8,
          "metadata": {},
          "output_type": "execute_result"
        }
      ],
      "source": [
        "mask = countries.isin(count[count < 10])\n",
        "mask.head()"
      ]
    },
    {
      "cell_type": "markdown",
      "metadata": {
        "colab_type": "text",
        "id": "6Zro-imOEiwt"
      },
      "source": [
        "Instructions:\n",
        "\n",
        "* Label values occurring less than the `mask` cutoff as 'Other'.\n",
        "* Print the new category counts in `countries`."
      ]
    },
    {
      "cell_type": "code",
      "execution_count": 9,
      "metadata": {
        "colab": {
          "base_uri": "https://localhost:8080/",
          "height": 309
        },
        "colab_type": "code",
        "id": "RloG1Wkvs7Pn",
        "outputId": "781791e9-af3e-4cdf-9300-0b3d48b47668"
      },
      "outputs": [
        {
          "name": "stdout",
          "output_type": "stream",
          "text": [
            "Country\n",
            "South Africa    166\n",
            "USA             164\n",
            "Spain           134\n",
            "Sweeden         119\n",
            "France          115\n",
            "Russia           97\n",
            "UK               95\n",
            "India            95\n",
            "Ukraine           9\n",
            "Ireland           5\n",
            "Name: count, dtype: int64\n"
          ]
        },
        {
          "name": "stderr",
          "output_type": "stream",
          "text": [
            "C:\\Users\\yeiso\\AppData\\Local\\Temp\\ipykernel_28908\\4291166831.py:2: SettingWithCopyWarning: \n",
            "A value is trying to be set on a copy of a slice from a DataFrame\n",
            "\n",
            "See the caveats in the documentation: https://pandas.pydata.org/pandas-docs/stable/user_guide/indexing.html#returning-a-view-versus-a-copy\n",
            "  countries[mask] = \"Other\"\n"
          ]
        }
      ],
      "source": [
        "# For creating the Other label by replacing the countries  \n",
        "countries[mask] = \"Other\"\n",
        "print(countries.value_counts())"
      ]
    },
    {
      "cell_type": "code",
      "execution_count": 15,
      "metadata": {},
      "outputs": [
        {
          "name": "stdout",
          "output_type": "stream",
          "text": [
            "Country\n",
            "South Africa    166\n",
            "USA             164\n",
            "Spain           134\n",
            "Sweeden         119\n",
            "France          115\n",
            "Russia           97\n",
            "UK               95\n",
            "India            95\n",
            "Other            14\n",
            "Name: count, dtype: int64\n"
          ]
        },
        {
          "name": "stderr",
          "output_type": "stream",
          "text": [
            "C:\\Users\\yeiso\\AppData\\Local\\Temp\\ipykernel_28908\\1293931935.py:11: SettingWithCopyWarning: \n",
            "A value is trying to be set on a copy of a slice from a DataFrame\n",
            "\n",
            "See the caveats in the documentation: https://pandas.pydata.org/pandas-docs/stable/user_guide/indexing.html#returning-a-view-versus-a-copy\n",
            "  countries[mask] = 'Other'\n",
            "C:\\Users\\yeiso\\AppData\\Local\\Temp\\ipykernel_28908\\1293931935.py:14: FutureWarning: pandas.value_counts is deprecated and will be removed in a future version. Use pd.Series(obj).value_counts() instead.\n",
            "  print(pd.value_counts(countries))\n"
          ]
        }
      ],
      "source": [
        "# Create a series out of the Country column\n",
        "countries = so_survey_df['Country']\n",
        "\n",
        "# Get the counts of each category\n",
        "country_counts = countries.value_counts()\n",
        "\n",
        "# Create a mask for only categories that occur less than 10 times\n",
        "mask = countries.isin(country_counts[country_counts < 10].index)\n",
        "\n",
        "# Label all other categories as Other\n",
        "countries[mask] = 'Other'\n",
        "\n",
        "# Print the updated category counts\n",
        "print(pd.value_counts(countries))"
      ]
    },
    {
      "cell_type": "markdown",
      "metadata": {
        "colab_type": "text",
        "id": "w0j7IlzLpke5"
      },
      "source": [
        "---\n",
        "### Binarizing columns\n",
        "---\n",
        "While numeric values can often be used without any feature engineering, there will be cases when some form of manipulation can be useful. For example on some occasions, we might not care about the magnitude of a value but only care about its direction, or if it exists at all. In these situations, we will want to binarize a column. In the `so_survey_df` data, we have a large number of survey respondents that are working voluntarily (without pay). We will create a new column titled `Paid_Job` indicating whether each person is paid (their salary is greater than zero)."
      ]
    },
    {
      "cell_type": "code",
      "execution_count": 10,
      "metadata": {
        "colab": {
          "base_uri": "https://localhost:8080/",
          "height": 221
        },
        "colab_type": "code",
        "id": "jr9wX2fVAf9e",
        "outputId": "344f96fe-0f47-4b45-c658-f012013d2d1c"
      },
      "outputs": [
        {
          "data": {
            "text/plain": [
              "0            0.0\n",
              "1        70841.0\n",
              "2            0.0\n",
              "3        21426.0\n",
              "4        41671.0\n",
              "         ...    \n",
              "994          0.0\n",
              "995      58746.0\n",
              "996      55000.0\n",
              "997          0.0\n",
              "998    1000000.0\n",
              "Name: ConvertedSalary, Length: 999, dtype: float64"
            ]
          },
          "execution_count": 10,
          "metadata": {},
          "output_type": "execute_result"
        }
      ],
      "source": [
        "so_survey_df.ConvertedSalary.fillna(0)"
      ]
    },
    {
      "cell_type": "markdown",
      "metadata": {
        "colab_type": "text",
        "id": "HdCPaTzFExzS"
      },
      "source": [
        "Instructions:\n",
        "\n",
        "* Create a new column called `Paid_Job` filled with zeros.\n",
        "* Replace all the `Paid_Job` values with a 1 where the corresponding `ConvertedSalary` is greater than 0."
      ]
    },
    {
      "cell_type": "code",
      "execution_count": 16,
      "metadata": {
        "colab": {
          "base_uri": "https://localhost:8080/",
          "height": 204
        },
        "colab_type": "code",
        "id": "CQsT4DgSvm_X",
        "outputId": "b07f907a-5aff-4a3b-9828-41cabf0ed112"
      },
      "outputs": [
        {
          "data": {
            "text/html": [
              "<div>\n",
              "<style scoped>\n",
              "    .dataframe tbody tr th:only-of-type {\n",
              "        vertical-align: middle;\n",
              "    }\n",
              "\n",
              "    .dataframe tbody tr th {\n",
              "        vertical-align: top;\n",
              "    }\n",
              "\n",
              "    .dataframe thead th {\n",
              "        text-align: right;\n",
              "    }\n",
              "</style>\n",
              "<table border=\"1\" class=\"dataframe\">\n",
              "  <thead>\n",
              "    <tr style=\"text-align: right;\">\n",
              "      <th></th>\n",
              "      <th>Paid_Job</th>\n",
              "      <th>ConvertedSalary</th>\n",
              "    </tr>\n",
              "  </thead>\n",
              "  <tbody>\n",
              "    <tr>\n",
              "      <th>0</th>\n",
              "      <td>0</td>\n",
              "      <td>NaN</td>\n",
              "    </tr>\n",
              "    <tr>\n",
              "      <th>1</th>\n",
              "      <td>1</td>\n",
              "      <td>70841.0</td>\n",
              "    </tr>\n",
              "    <tr>\n",
              "      <th>2</th>\n",
              "      <td>0</td>\n",
              "      <td>NaN</td>\n",
              "    </tr>\n",
              "    <tr>\n",
              "      <th>3</th>\n",
              "      <td>1</td>\n",
              "      <td>21426.0</td>\n",
              "    </tr>\n",
              "    <tr>\n",
              "      <th>4</th>\n",
              "      <td>1</td>\n",
              "      <td>41671.0</td>\n",
              "    </tr>\n",
              "  </tbody>\n",
              "</table>\n",
              "</div>"
            ],
            "text/plain": [
              "   Paid_Job  ConvertedSalary\n",
              "0         0              NaN\n",
              "1         1          70841.0\n",
              "2         0              NaN\n",
              "3         1          21426.0\n",
              "4         1          41671.0"
            ]
          },
          "execution_count": 16,
          "metadata": {},
          "output_type": "execute_result"
        }
      ],
      "source": [
        "so_survey_df['Paid_Job'] = 0\n",
        "so_survey_df.head()\n",
        "so_survey_df.loc[so_survey_df['ConvertedSalary'] > 0, 'Paid_Job'] = 1\n",
        "so_survey_df[['Paid_Job', 'ConvertedSalary']].head()"
      ]
    },
    {
      "cell_type": "markdown",
      "metadata": {
        "colab_type": "text",
        "id": "7lJTmpvzq_NJ"
      },
      "source": [
        "---\n",
        "### Binning values\n",
        "---\n",
        "For many continuous values we will care less about the exact value of a numeric column, but instead care about the bucket it falls into. This can be useful when plotting values, or simplifying your machine learning models. It is mostly used on continuous variables where accuracy is not the biggest concern e.g. age, height, wages.\n",
        "\n",
        "Bins are created using `pd.cut(df['column_name'], bins)` where bins can be an integer specifying the number of evenly spaced bins, or a list of bin boundaries."
      ]
    },
    {
      "cell_type": "markdown",
      "metadata": {
        "colab_type": "text",
        "id": "GglGS3NkFtU3"
      },
      "source": [
        "Instructions:\n",
        "\n",
        "* Bin the value of the `ConvertedSalary` column in `so_survey_df` into 5 equal bins, in a new column called `equal_binned`.\n",
        "* Print the first five rows of both columns: `ConvertedSalary` and `equal_binned`. "
      ]
    },
    {
      "cell_type": "code",
      "execution_count": null,
      "metadata": {
        "colab": {
          "base_uri": "https://localhost:8080/",
          "height": 204
        },
        "colab_type": "code",
        "id": "9f-bHoc3NCq-",
        "outputId": "40cc2b01-5703-4ac9-bea2-3ac8096dc662"
      },
      "outputs": [],
      "source": [
        "# Bin the continuous variable ConvertedSalary into 5 bins\n",
        "so_survey_df['equal_binned'] = pd.cut(so_survey_df['ConvertedSalary'], 5)\n",
        "\n",
        "# Print the first 5 rows of the equal_binned column\n",
        "print(so_survey_df[['equal_binned', 'ConvertedSalary']].head())"
      ]
    },
    {
      "cell_type": "markdown",
      "metadata": {
        "colab_type": "text",
        "id": "-o_1_UiiF1dc"
      },
      "source": [
        "Instructions:\n",
        "\n",
        "* Bin the `ConvertedSalary` column using the boundaries in the list bins and label the bins using `labels` in a new column called `boundary_binned`. \n",
        "* Print the first 5 rows of the `boundary_binned` column. "
      ]
    },
    {
      "cell_type": "code",
      "execution_count": 26,
      "metadata": {
        "colab": {
          "base_uri": "https://localhost:8080/",
          "height": 204
        },
        "colab_type": "code",
        "id": "ONG-IOmSOt5-",
        "outputId": "82c3672d-9364-48c5-d24b-306c239b20eb"
      },
      "outputs": [
        {
          "name": "stdout",
          "output_type": "stream",
          "text": [
            "  boundary_binned  ConvertedSalary\n",
            "0             NaN              NaN\n",
            "1          Medium          70841.0\n",
            "2             NaN              NaN\n",
            "3             Low          21426.0\n",
            "4             Low          41671.0\n"
          ]
        }
      ],
      "source": [
        "# Bin the ConvertedSalary column using the boundaries in the list bins and label the bins using labels\n",
        "# Import numpy\n",
        "import numpy as np\n",
        "\n",
        "# Specify the boundaries of the bins\n",
        "bins = [-np.inf, 10000, 50000, 100000, 150000, np.inf]\n",
        "\n",
        "# Bin labels\n",
        "labels = ['Very low', 'Low', 'Medium', 'High', 'Very high']\n",
        "\n",
        "# Bin the continuous variable ConvertedSalary using these boundaries\n",
        "so_survey_df['boundary_binned'] = pd.cut(so_survey_df['ConvertedSalary'], bins=bins, labels=labels)\n",
        "\n",
        "# Print the first 5 rows of the boundary_binned column\n",
        "print(so_survey_df[['boundary_binned', 'ConvertedSalary']].head())"
      ]
    },
    {
      "cell_type": "code",
      "execution_count": 27,
      "metadata": {
        "colab": {
          "base_uri": "https://localhost:8080/",
          "height": 102
        },
        "colab_type": "code",
        "id": "6_Oziy6EPuGF",
        "outputId": "22c1483b-64c7-4523-afd0-043dc392d4c9"
      },
      "outputs": [
        {
          "data": {
            "text/plain": [
              "Index(['SurveyDate', 'FormalEducation', 'ConvertedSalary', 'Hobby', 'Country',\n",
              "       'StackOverflowJobsRecommend', 'VersionControl', 'Age',\n",
              "       'Years Experience', 'Gender', 'RawSalary', 'Paid_Job',\n",
              "       'boundary_binned'],\n",
              "      dtype='object')"
            ]
          },
          "execution_count": 27,
          "metadata": {},
          "output_type": "execute_result"
        }
      ],
      "source": [
        "so_survey_df.columns "
      ]
    },
    {
      "cell_type": "markdown",
      "metadata": {
        "colab_type": "text",
        "id": "cIkFDAVUGhcQ"
      },
      "source": [
        "## Dealing with Messy Data\n",
        "---"
      ]
    },
    {
      "cell_type": "markdown",
      "metadata": {
        "colab_type": "text",
        "id": "m8o-Z4YEsYF9"
      },
      "source": [
        "---\n",
        "### How sparse is my data?\n",
        "---\n",
        "Most data sets contain missing values, often represented as NaN (Not a Number). If we are working with Pandas, we can easily check how many missing values exist in each column.\n",
        "\n",
        "Let's find out how many of the developers taking the survey chose to enter their age (found in the `Age` column of `so_survey_df`) and their gender (`Gender` column of `so_survey_df`)."
      ]
    },
    {
      "cell_type": "markdown",
      "metadata": {
        "colab_type": "text",
        "id": "1n0JDxzMHMwD"
      },
      "source": [
        "Instructions:\n",
        "\n",
        "* Subset the `so_survey_df` DataFrame to only include the `Age` and `Gender` columns.\n",
        "* Print the number of non-missing values in both columns."
      ]
    },
    {
      "cell_type": "code",
      "execution_count": 29,
      "metadata": {},
      "outputs": [
        {
          "name": "stdout",
          "output_type": "stream",
          "text": [
            "Age       999\n",
            "Gender    693\n",
            "dtype: int64\n"
          ]
        }
      ],
      "source": [
        "# Subset the DataFrame\n",
        "sub_df = so_survey_df[[\"Age\", \"Gender\"]]\n",
        "\n",
        "# Print the number of non-missing values\n",
        "print(sub_df.count())\n"
      ]
    },
    {
      "cell_type": "markdown",
      "metadata": {
        "colab_type": "text",
        "id": "STDb03R3swA4"
      },
      "source": [
        "---\n",
        "### Finding the missing values\n",
        "---\n",
        "While having a summary of how much of your data is missing can be useful, often we will need to find the exact locations of these missing values. Using the same subset of the StackOverflow data from the last exercise (`sub_df`), we will show how a value can be flagged as missing."
      ]
    },
    {
      "cell_type": "markdown",
      "metadata": {
        "colab_type": "text",
        "id": "E5XbMPSrHhY4"
      },
      "source": [
        "Instructions:\n",
        "\n",
        "* Print the first 10 entries of the `sub_df` DataFrame.\n",
        "* Print the locations of the missing values in the first 10 rows of this DataFrame.\n",
        "* Print the locations of the non-missing values in the first 10 rows."
      ]
    },
    {
      "cell_type": "code",
      "execution_count": 31,
      "metadata": {
        "colab": {
          "base_uri": "https://localhost:8080/",
          "height": 578
        },
        "colab_type": "code",
        "id": "Es0TgbOhStNj",
        "outputId": "0735ef95-85bf-4b82-fd90-5f44fc7f0fc7"
      },
      "outputs": [
        {
          "name": "stdout",
          "output_type": "stream",
          "text": [
            "   Age  Gender\n",
            "0   21    Male\n",
            "1   38    Male\n",
            "2   45     NaN\n",
            "3   46    Male\n",
            "4   39    Male\n",
            "5   39    Male\n",
            "6   34    Male\n",
            "7   24  Female\n",
            "8   23    Male\n",
            "9   36     NaN\n"
          ]
        }
      ],
      "source": [
        "sub_df = sub\n",
        "\n",
        "# Print the top 10 entries of the DataFrame\n",
        "print(sub_df.head(10))\n"
      ]
    },
    {
      "cell_type": "code",
      "execution_count": 32,
      "metadata": {},
      "outputs": [
        {
          "name": "stdout",
          "output_type": "stream",
          "text": [
            "     Age  Gender\n",
            "0  False   False\n",
            "1  False   False\n",
            "2  False    True\n",
            "3  False   False\n",
            "4  False   False\n",
            "5  False   False\n",
            "6  False   False\n",
            "7  False   False\n",
            "8  False   False\n",
            "9  False    True\n"
          ]
        }
      ],
      "source": [
        "# Print the locations of the missing values\n",
        "print(sub_df.head(10).isna())\n"
      ]
    },
    {
      "cell_type": "code",
      "execution_count": 33,
      "metadata": {},
      "outputs": [
        {
          "name": "stdout",
          "output_type": "stream",
          "text": [
            "    Age  Gender\n",
            "0  True    True\n",
            "1  True    True\n",
            "2  True   False\n",
            "3  True    True\n",
            "4  True    True\n",
            "5  True    True\n",
            "6  True    True\n",
            "7  True    True\n",
            "8  True    True\n",
            "9  True   False\n"
          ]
        }
      ],
      "source": [
        "# Print the locations of the non-missing values\n",
        "print(sub_df.head(10).notna())"
      ]
    },
    {
      "cell_type": "markdown",
      "metadata": {
        "colab_type": "text",
        "id": "CgR_uodEtS2o"
      },
      "source": [
        "---\n",
        "### Listwise deletion\n",
        "---\n",
        "The simplest way to deal with missing values in our dataset when they are occurring entirely at random is to remove those rows, also called 'listwise deletion'.\n",
        "\n",
        "Depending on the use case, we will sometimes want to remove all missing values in our data while other times we may want to only remove a particular column if too many values are missing in that column."
      ]
    },
    {
      "cell_type": "markdown",
      "metadata": {
        "colab_type": "text",
        "id": "kIioVg70H8fY"
      },
      "source": [
        "Instructions:\n",
        "\n",
        "* Print the number of rows and columns in `so_survey_df`.\n",
        "* Drop all rows with missing values in `so_survey_df`.\n",
        "* Drop all columns with missing values in `so_survey_df`.\n",
        "* Drop all rows in `so_survey_df` where `Gender` is missing."
      ]
    },
    {
      "cell_type": "code",
      "execution_count": 37,
      "metadata": {
        "colab": {
          "base_uri": "https://localhost:8080/",
          "height": 85
        },
        "colab_type": "code",
        "id": "YywIoTVEVBEp",
        "outputId": "b58a878c-4930-48df-c8ac-32666d57af3b"
      },
      "outputs": [
        {
          "name": "stdout",
          "output_type": "stream",
          "text": [
            "(999, 13)\n"
          ]
        }
      ],
      "source": [
        "# Print the shape of the original DataFrame\n",
        "print(so_survey_df.shape)"
      ]
    },
    {
      "cell_type": "code",
      "execution_count": 34,
      "metadata": {},
      "outputs": [
        {
          "name": "stdout",
          "output_type": "stream",
          "text": [
            "(264, 13)\n"
          ]
        }
      ],
      "source": [
        "# Create a new DataFrame dropping all incomplete rows\n",
        "no_missing_values_rows = so_survey_df.dropna()\n",
        "\n",
        "# Print the shape of the new DataFrame\n",
        "print(no_missing_values_rows.shape)"
      ]
    },
    {
      "cell_type": "code",
      "execution_count": 35,
      "metadata": {},
      "outputs": [
        {
          "name": "stdout",
          "output_type": "stream",
          "text": [
            "(999, 8)\n"
          ]
        }
      ],
      "source": [
        "# Create a new DataFrame dropping all columns with incomplete rows\n",
        "no_missing_values_cols = so_survey_df.dropna(axis=1)\n",
        "\n",
        "# Print the shape of the new DataFrame\n",
        "print(no_missing_values_cols.shape)\n"
      ]
    },
    {
      "cell_type": "code",
      "execution_count": 36,
      "metadata": {},
      "outputs": [
        {
          "name": "stdout",
          "output_type": "stream",
          "text": [
            "(693, 13)\n"
          ]
        }
      ],
      "source": [
        "# Drop all rows where 'Gender' is missing\n",
        "no_gender = so_survey_df.dropna(subset=['Gender'])\n",
        "\n",
        "# Print the shape of the new DataFrame\n",
        "print(no_gender.shape)\n"
      ]
    },
    {
      "cell_type": "markdown",
      "metadata": {
        "colab_type": "text",
        "id": "9C1H8JwhtxHU"
      },
      "source": [
        "---\n",
        "### Replacing missing values with constants\n",
        "---\n",
        "While removing missing data entirely maybe a correct approach in many situations, this may result in a lot of information being omitted from your models.\n",
        "\n",
        "We may find categorical columns where the missing value is a valid piece of information in itself, such as someone refusing to answer a question in a survey. In these cases, we can fill all missing values with a new category entirely, for example 'No response given'."
      ]
    },
    {
      "cell_type": "markdown",
      "metadata": {
        "colab_type": "text",
        "id": "cPq_Ae40IUnY"
      },
      "source": [
        "Instructions:\n",
        "\n",
        "* Print the count of occurrences of each category in `so_survey_df`'s `Gender` column.\n",
        "* Replace all missing values in the `Gender` column with the string 'Not Given'. Make changes to the original DataFrame.\n",
        "* Print the count of occurrences of updated category in `so_survey_df`'s `Gender` column."
      ]
    },
    {
      "cell_type": "code",
      "execution_count": 39,
      "metadata": {
        "colab": {
          "base_uri": "https://localhost:8080/",
          "height": 340
        },
        "colab_type": "code",
        "id": "BZCfmnbsW1Ev",
        "outputId": "15ebc218-a684-4551-927b-6c9e9f960a40"
      },
      "outputs": [
        {
          "name": "stdout",
          "output_type": "stream",
          "text": [
            "Gender\n",
            "Male                                                                         632\n",
            "Not Given                                                                    306\n",
            "Female                                                                        53\n",
            "Female;Male                                                                    2\n",
            "Transgender                                                                    2\n",
            "Female;Male;Transgender;Non-binary. genderqueer. or gender non-conforming      1\n",
            "Male;Non-binary. genderqueer. or gender non-conforming                         1\n",
            "Non-binary. genderqueer. or gender non-conforming                              1\n",
            "Female;Transgender                                                             1\n",
            "Name: count, dtype: int64\n"
          ]
        }
      ],
      "source": [
        "# Replace missing values\n",
        "so_survey_df['Gender'].fillna(value='Not Given', inplace=True)\n",
        "\n",
        "# Print the count of each value\n",
        "print(so_survey_df['Gender'].value_counts())"
      ]
    },
    {
      "cell_type": "markdown",
      "metadata": {
        "colab_type": "text",
        "id": "Rn2h-F8IuI0C"
      },
      "source": [
        "---\n",
        "### Filling continuous missing values\n",
        "---\n",
        "Earlier, we dealt with different methods of removing data missing values and filling in missing values with a fixed string. These approaches are valid in many cases, particularly when dealing with categorical columns but have limited use when working with continuous values. In these cases, it may be most valid to fill the missing values in the column with a value calculated from the entries present in the column."
      ]
    },
    {
      "cell_type": "markdown",
      "metadata": {
        "colab_type": "text",
        "id": "_S9YZ2GsIyLx"
      },
      "source": [
        "Instructions:\n",
        "\n",
        "* Print the first five rows of the `StackOverflowJobsRecommend` column of `so_survey_df`.\n",
        "* Replace the missing values in the `StackOverflowJobsRecommend` column with its mean. Make changes directly to the original DataFrame.\n",
        "* Round the decimal values that we introduced in the `StackOverflowJobsRecommend` column."
      ]
    },
    {
      "cell_type": "code",
      "execution_count": 40,
      "metadata": {},
      "outputs": [
        {
          "name": "stdout",
          "output_type": "stream",
          "text": [
            "0    7.0\n",
            "1    7.0\n",
            "2    8.0\n",
            "3    7.0\n",
            "4    8.0\n",
            "Name: StackOverflowJobsRecommend, dtype: float64\n"
          ]
        }
      ],
      "source": [
        "# Fill missing values with the mean\n",
        "so_survey_df['StackOverflowJobsRecommend'].fillna(so_survey_df['StackOverflowJobsRecommend'].mean(), inplace=True)\n",
        "\n",
        "# Round the StackOverflowJobsRecommend values\n",
        "so_survey_df['StackOverflowJobsRecommend'] = round(so_survey_df['StackOverflowJobsRecommend'])\n",
        "\n",
        "# Print the top 5 rows\n",
        "print(so_survey_df['StackOverflowJobsRecommend'].head())"
      ]
    },
    {
      "cell_type": "markdown",
      "metadata": {
        "colab_type": "text",
        "id": "SKcC12f0vCuh"
      },
      "source": [
        "---\n",
        "### Dealing with stray characters (I)\n",
        "---\n",
        "In this exercise, we will work with the `RawSalary` column of so_survey_df which contains the wages of the respondents along with the currency symbols and commas, such as $42,000. When importing data from Microsoft Excel, more often that not we will come across data in this form."
      ]
    },
    {
      "cell_type": "code",
      "execution_count": null,
      "metadata": {
        "colab": {
          "base_uri": "https://localhost:8080/",
          "height": 119
        },
        "colab_type": "code",
        "id": "sxnRNfZ6Z9gu",
        "outputId": "030252b0-6ef3-4f39-ef4e-027fe0a39302"
      },
      "outputs": [
        {
          "data": {
            "text/plain": [
              "0           NaN\n",
              "1     70,841.00\n",
              "2           NaN\n",
              "3     21,426.00\n",
              "4    £41,671.00\n",
              "Name: RawSalary, dtype: object"
            ]
          },
          "execution_count": 78,
          "metadata": {
            "tags": []
          },
          "output_type": "execute_result"
        }
      ],
      "source": [
        "so_survey_df.RawSalary.head()"
      ]
    },
    {
      "cell_type": "markdown",
      "metadata": {
        "colab_type": "text",
        "id": "tz0CGSQkJI03"
      },
      "source": [
        "Instructions:\n",
        "\n",
        "* Remove the commas (,) from the `RawSalary` column.\n",
        "* Remove the dollar ($) signs from the `RawSalary` column.\n",
        "* Print the first five rows of updated `RawSalary` column. "
      ]
    },
    {
      "cell_type": "code",
      "execution_count": 41,
      "metadata": {
        "colab": {
          "base_uri": "https://localhost:8080/",
          "height": 119
        },
        "colab_type": "code",
        "id": "GpqnIBSNaF9m",
        "outputId": "01b1816c-7797-4319-ce3d-99b3eb879505"
      },
      "outputs": [
        {
          "name": "stdout",
          "output_type": "stream",
          "text": [
            "0          NaN\n",
            "1     70841.00\n",
            "2          NaN\n",
            "3     21426.00\n",
            "4    £41671.00\n",
            "Name: RawSalary, dtype: object\n"
          ]
        }
      ],
      "source": [
        "so_survey_df.RawSalary = so_survey_df.RawSalary.str.replace(\",\",'')\n",
        "print(so_survey_df.RawSalary.head())"
      ]
    },
    {
      "cell_type": "code",
      "execution_count": 42,
      "metadata": {},
      "outputs": [
        {
          "name": "stdout",
          "output_type": "stream",
          "text": [
            "0          NaN\n",
            "1     70841.00\n",
            "2          NaN\n",
            "3     21426.00\n",
            "4    £41671.00\n",
            "Name: RawSalary, dtype: object\n"
          ]
        }
      ],
      "source": [
        "so_survey_df.RawSalary = so_survey_df.RawSalary.str.replace(\"$\",'')\n",
        "print(so_survey_df.RawSalary.head())"
      ]
    },
    {
      "cell_type": "markdown",
      "metadata": {
        "colab_type": "text",
        "id": "UpayqY5IwMBl"
      },
      "source": [
        "---\n",
        "### Dealing with stray characters (II)\n",
        "---\n",
        "In the last exercise, we could tell quickly based off of the `df.head()` call which characters were causing an issue. In many cases this will not be so apparent. There will often be values deep within a column that are preventing us from casting a column as a numeric type so that it can be used in a model or further feature engineering.\n",
        "\n",
        "One approach to finding these values is to force the column to the data type desired using `pd.to_numeric()`, coercing any values causing issues to `NaN`, Then filtering the DataFrame by just the rows containing the `NaN` values.\n",
        "\n",
        "Try to cast the `RawSalary` column as a float and it will fail as an additional character can now be found in it. Find the character and remove it so the column can be cast as a float."
      ]
    },
    {
      "cell_type": "markdown",
      "metadata": {
        "colab_type": "text",
        "id": "Z7Duf4v7JpPv"
      },
      "source": [
        "Instructions:\n",
        "\n",
        "* Attempt to convert the `RawSalary` column of `so_survey_df` to numeric values coercing all failures into null values.\n",
        "* Find the indexes of the rows containing `NaN`s.\n",
        "* Print the rows in `RawSalary` based on these indexes."
      ]
    },
    {
      "cell_type": "code",
      "execution_count": null,
      "metadata": {
        "colab": {
          "base_uri": "https://localhost:8080/",
          "height": 119
        },
        "colab_type": "code",
        "id": "AYuh53vbv5_d",
        "outputId": "2770c851-55d6-4e78-85c4-a7997b3f7587"
      },
      "outputs": [
        {
          "data": {
            "text/plain": [
              "0        NaN\n",
              "1    70841.0\n",
              "2        NaN\n",
              "3    21426.0\n",
              "4        NaN\n",
              "Name: RawSalary, dtype: float64"
            ]
          },
          "execution_count": 80,
          "metadata": {
            "tags": []
          },
          "output_type": "execute_result"
        }
      ],
      "source": [
        "# Attempt to convert the column to numeric values\n",
        "numeric_vals = pd.to_numeric(so_survey_df['RawSalary'], errors='coerce')\n",
        "numeric_vals.head()"
      ]
    },
    {
      "cell_type": "code",
      "execution_count": null,
      "metadata": {
        "colab": {
          "base_uri": "https://localhost:8080/",
          "height": 323
        },
        "colab_type": "code",
        "id": "2UpDeNa9cYmn",
        "outputId": "717b7870-add6-4574-d3c6-8272499c1456"
      },
      "outputs": [
        {
          "name": "stdout",
          "output_type": "stream",
          "text": [
            "0     True\n",
            "1    False\n",
            "2     True\n",
            "3    False\n",
            "4     True\n",
            "Name: RawSalary, dtype: bool\n",
            "0     NaN\n",
            "2     NaN\n",
            "4     NaN\n",
            "6     NaN\n",
            "8     NaN\n",
            "       ..\n",
            "989   NaN\n",
            "990   NaN\n",
            "992   NaN\n",
            "994   NaN\n",
            "997   NaN\n",
            "Name: RawSalary, Length: 401, dtype: float64\n"
          ]
        }
      ],
      "source": [
        "null = numeric_vals.isna()\n",
        "print(null.head())\n",
        "print(numeric_vals[null])"
      ]
    },
    {
      "cell_type": "code",
      "execution_count": 44,
      "metadata": {},
      "outputs": [
        {
          "name": "stdout",
          "output_type": "stream",
          "text": [
            "0            NaN\n",
            "2            NaN\n",
            "4      £41671.00\n",
            "6            NaN\n",
            "8            NaN\n",
            "         ...    \n",
            "989          NaN\n",
            "990          NaN\n",
            "992          NaN\n",
            "994          NaN\n",
            "997          NaN\n",
            "Name: RawSalary, Length: 401, dtype: object\n"
          ]
        }
      ],
      "source": [
        "# Attempt to convert the column to numeric values\n",
        "numeric_vals = pd.to_numeric(so_survey_df['RawSalary'], errors='coerce')\n",
        "\n",
        "# Find the indexes of missing values\n",
        "idx = numeric_vals.isnull()\n",
        "\n",
        "# Print the relevant rows\n",
        "print(so_survey_df['RawSalary'][idx])"
      ]
    },
    {
      "cell_type": "markdown",
      "metadata": {
        "colab_type": "text",
        "id": "vyllnJ5NKEwy"
      },
      "source": [
        "Instructions:\n",
        "\n",
        "* Did you notice the pound (£) signs in the `RawSalary` column? Remove these signs like we did in the previous exercise."
      ]
    },
    {
      "cell_type": "code",
      "execution_count": null,
      "metadata": {
        "colab": {
          "base_uri": "https://localhost:8080/",
          "height": 119
        },
        "colab_type": "code",
        "id": "Dvn8wE8VddTR",
        "outputId": "12ad8c66-722a-48a9-c0ad-f0bd60f6cdf4"
      },
      "outputs": [
        {
          "name": "stdout",
          "output_type": "stream",
          "text": [
            "0         NaN\n",
            "1    70841.00\n",
            "2         NaN\n",
            "3    21426.00\n",
            "4    41671.00\n",
            "Name: RawSalary, dtype: object\n"
          ]
        }
      ],
      "source": [
        "so_survey_df.RawSalary = so_survey_df.RawSalary.str.replace(\"£\",'')\n",
        "print(so_survey_df.RawSalary.head())"
      ]
    },
    {
      "cell_type": "markdown",
      "metadata": {
        "colab_type": "text",
        "id": "feXhsa94wtBz"
      },
      "source": [
        "---\n",
        "### Method chaining\n",
        "---\n",
        "When applying multiple operations on the same column (like in the previous exercises), you made the changes in several steps, assigning the results back in each step. However, when applying multiple successive operations on the same column, you can \"chain\" these operations together for clarity and ease of management. This can be achieved by calling multiple methods sequentially:\n",
        "```\n",
        "# Method chaining\n",
        "df['column'] = df['column'].method1().method2().method3()\n",
        "\n",
        "# Same as \n",
        "df['column'] = df['column'].method1()\n",
        "df['column'] = df['column'].method2()\n",
        "df['column'] = df['column'].method3()\n",
        "```"
      ]
    },
    {
      "cell_type": "markdown",
      "metadata": {
        "colab_type": "text",
        "id": "yo-JUG77KTRi"
      },
      "source": [
        "Instructions:\n",
        "\n",
        "* Remove the commas (`,`) from the `RawSalary` column of `so_survey_df`.\n",
        "* Remove the dollar (`$`) signs from the `RawSalary` column.\n",
        "* Remove the pound (`£`) signs from the `RawSalary` column.\n",
        "* Convert the `RawSalary` column to float."
      ]
    },
    {
      "cell_type": "code",
      "execution_count": 45,
      "metadata": {
        "colab": {
          "base_uri": "https://localhost:8080/",
          "height": 119
        },
        "colab_type": "code",
        "id": "uDAIKO42eE5R",
        "outputId": "04165ebf-4a9d-4d17-c8d2-c0a2e1f3c737"
      },
      "outputs": [
        {
          "name": "stdout",
          "output_type": "stream",
          "text": [
            "0        NaN\n",
            "1    70841.0\n",
            "2        NaN\n",
            "3    21426.0\n",
            "4    41671.0\n",
            "Name: RawSalary, dtype: float64\n"
          ]
        }
      ],
      "source": [
        "so_survey_df.RawSalary = so_survey_df.RawSalary.str.replace(\"£\",'').str.replace(\",\",'').str.replace(\"$\",'').apply(pd.to_numeric) \n",
        "print(so_survey_df.RawSalary.head()) # we can see the change in data type, here the apply and to_numeric is to change the data type in numeric it can be any int or float"
      ]
    },
    {
      "cell_type": "markdown",
      "metadata": {
        "colab_type": "text",
        "id": "CqpCNv72Kl_1"
      },
      "source": [
        "## Conforming to Statistical Assumptions\n",
        "---"
      ]
    },
    {
      "cell_type": "markdown",
      "metadata": {
        "colab_type": "text",
        "id": "hYwlN2FyyBml"
      },
      "source": [
        "---\n",
        "### What does your data look like?\n",
        "---\n",
        "Up until now we have focused on creating new features and dealing with issues in our data. Feature engineering can also be used to make the most out of the data that we already have and use it more effectively when creating machine learning models.\n",
        "Many algorithms may assume that our data is normally distributed, or at least that all our columns are on the same scale. This will often not be the case, e.g. one feature may be measured in thousands of dollars while another would be number of years. In this exercise, we will create plots to examine the distributions of some numeric columns in the `so_survey_df` DataFrame. "
      ]
    },
    {
      "cell_type": "code",
      "execution_count": 46,
      "metadata": {
        "colab": {
          "base_uri": "https://localhost:8080/",
          "height": 204
        },
        "colab_type": "code",
        "id": "LHMvrvwxyTQu",
        "outputId": "1b828c3a-72d0-405d-c292-5af5f467f436"
      },
      "outputs": [
        {
          "data": {
            "text/html": [
              "<div>\n",
              "<style scoped>\n",
              "    .dataframe tbody tr th:only-of-type {\n",
              "        vertical-align: middle;\n",
              "    }\n",
              "\n",
              "    .dataframe tbody tr th {\n",
              "        vertical-align: top;\n",
              "    }\n",
              "\n",
              "    .dataframe thead th {\n",
              "        text-align: right;\n",
              "    }\n",
              "</style>\n",
              "<table border=\"1\" class=\"dataframe\">\n",
              "  <thead>\n",
              "    <tr style=\"text-align: right;\">\n",
              "      <th></th>\n",
              "      <th>ConvertedSalary</th>\n",
              "      <th>Age</th>\n",
              "      <th>Years Experience</th>\n",
              "    </tr>\n",
              "  </thead>\n",
              "  <tbody>\n",
              "    <tr>\n",
              "      <th>0</th>\n",
              "      <td>NaN</td>\n",
              "      <td>21</td>\n",
              "      <td>13</td>\n",
              "    </tr>\n",
              "    <tr>\n",
              "      <th>1</th>\n",
              "      <td>70841.0</td>\n",
              "      <td>38</td>\n",
              "      <td>9</td>\n",
              "    </tr>\n",
              "    <tr>\n",
              "      <th>2</th>\n",
              "      <td>NaN</td>\n",
              "      <td>45</td>\n",
              "      <td>11</td>\n",
              "    </tr>\n",
              "    <tr>\n",
              "      <th>3</th>\n",
              "      <td>21426.0</td>\n",
              "      <td>46</td>\n",
              "      <td>12</td>\n",
              "    </tr>\n",
              "    <tr>\n",
              "      <th>4</th>\n",
              "      <td>41671.0</td>\n",
              "      <td>39</td>\n",
              "      <td>7</td>\n",
              "    </tr>\n",
              "  </tbody>\n",
              "</table>\n",
              "</div>"
            ],
            "text/plain": [
              "   ConvertedSalary  Age  Years Experience\n",
              "0              NaN   21                13\n",
              "1          70841.0   38                 9\n",
              "2              NaN   45                11\n",
              "3          21426.0   46                12\n",
              "4          41671.0   39                 7"
            ]
          },
          "execution_count": 46,
          "metadata": {},
          "output_type": "execute_result"
        }
      ],
      "source": [
        "so_numeric_df = so_survey_df[['ConvertedSalary', 'Age', 'Years Experience']]\n",
        "so_numeric_df.head()"
      ]
    },
    {
      "cell_type": "markdown",
      "metadata": {
        "colab_type": "text",
        "id": "i8Ch5slQy6B-"
      },
      "source": [
        "Instructions:\n",
        "\n",
        "* Generate a histogram of all columns in the `so_numeric_df` DataFrame.\n",
        "* Generate box plots of the `Age` and `Years Experience` columns in the `so_numeric_df` DataFrame.\n",
        "* Generate a box plot of the `ConvertedSalary` column in the `so_numeric_df`.\n",
        "* Plot pairwise relationships (using `sns.pairplot`) in the `so_numeric_df`."
      ]
    },
    {
      "cell_type": "code",
      "execution_count": null,
      "metadata": {
        "colab": {
          "base_uri": "https://localhost:8080/",
          "height": 366
        },
        "colab_type": "code",
        "id": "7AmDiArNgJz0",
        "outputId": "98a895cb-72cc-4794-aeff-da710541829f"
      },
      "outputs": [
        {
          "data": {
            "text/plain": [
              "array([[<matplotlib.axes._subplots.AxesSubplot object at 0x7f036927bb38>,\n",
              "        <matplotlib.axes._subplots.AxesSubplot object at 0x7f03692a9a20>],\n",
              "       [<matplotlib.axes._subplots.AxesSubplot object at 0x7f03692569b0>,\n",
              "        <matplotlib.axes._subplots.AxesSubplot object at 0x7f037556b898>]],\n",
              "      dtype=object)"
            ]
          },
          "execution_count": 85,
          "metadata": {
            "tags": []
          },
          "output_type": "execute_result"
        },
        {
          "data": {
            "image/png": "[encoded data removed]",
            "text/plain": [
              "<Figure size 432x288 with 4 Axes>"
            ]
          },
          "metadata": {
            "needs_background": "light",
            "tags": []
          },
          "output_type": "display_data"
        }
      ],
      "source": [
        "so_numeric_df.hist()"
      ]
    },
    {
      "cell_type": "code",
      "execution_count": null,
      "metadata": {
        "colab": {
          "base_uri": "https://localhost:8080/",
          "height": 282
        },
        "colab_type": "code",
        "id": "pM0t3szQgqiA",
        "outputId": "d5ccd896-c628-4eff-fe30-fdbb84183b76"
      },
      "outputs": [
        {
          "data": {
            "text/plain": [
              "<matplotlib.axes._subplots.AxesSubplot at 0x7f0378129828>"
            ]
          },
          "execution_count": 86,
          "metadata": {
            "tags": []
          },
          "output_type": "execute_result"
        },
        {
          "data": {
            "image/png": "[encoded data removed]",
            "text/plain": [
              "<Figure size 432x288 with 1 Axes>"
            ]
          },
          "metadata": {
            "needs_background": "light",
            "tags": []
          },
          "output_type": "display_data"
        }
      ],
      "source": [
        "so_numeric_df[[\"Age\",'Years Experience']].boxplot()"
      ]
    },
    {
      "cell_type": "code",
      "execution_count": null,
      "metadata": {
        "colab": {
          "base_uri": "https://localhost:8080/",
          "height": 293
        },
        "colab_type": "code",
        "id": "mrYw7JymhKMC",
        "outputId": "616dc2d3-976a-46be-c60b-45fd37e0a224"
      },
      "outputs": [
        {
          "data": {
            "text/plain": [
              "<matplotlib.axes._subplots.AxesSubplot at 0x7f0369146588>"
            ]
          },
          "execution_count": 87,
          "metadata": {
            "tags": []
          },
          "output_type": "execute_result"
        },
        {
          "data": {
            "image/png": "[encoded data removed]",
            "text/plain": [
              "<Figure size 432x288 with 1 Axes>"
            ]
          },
          "metadata": {
            "needs_background": "light",
            "tags": []
          },
          "output_type": "display_data"
        }
      ],
      "source": [
        "so_numeric_df[['ConvertedSalary']].boxplot()"
      ]
    },
    {
      "cell_type": "code",
      "execution_count": 47,
      "metadata": {
        "colab": {
          "base_uri": "https://localhost:8080/",
          "height": 595
        },
        "colab_type": "code",
        "id": "dtM9LCz9hTw3",
        "outputId": "12e82a17-9861-41a1-b954-1da1e4f1ec00"
      },
      "outputs": [
        {
          "data": {
            "image/png": "[encoded data removed]",
            "text/plain": [
              "<Figure size 750x750 with 12 Axes>"
            ]
          },
          "metadata": {},
          "output_type": "display_data"
        }
      ],
      "source": [
        "# Import packages\n",
        "import matplotlib.pyplot as plt\n",
        "import seaborn as sns\n",
        "\n",
        "# Plot pairwise relationships\n",
        "sns.pairplot(so_numeric_df)\n",
        "\n",
        "# Show plot\n",
        "plt.show()"
      ]
    },
    {
      "cell_type": "code",
      "execution_count": 48,
      "metadata": {},
      "outputs": [
        {
          "name": "stdout",
          "output_type": "stream",
          "text": [
            "       ConvertedSalary         Age  Years Experience\n",
            "count     6.650000e+02  999.000000        999.000000\n",
            "mean      9.256517e+04   36.003003          9.961962\n",
            "std       2.091344e+05   13.255127          4.878129\n",
            "min       0.000000e+00   18.000000          0.000000\n",
            "25%       2.755000e+04   25.000000          7.000000\n",
            "50%       5.556200e+04   35.000000         10.000000\n",
            "75%       8.823800e+04   45.000000         13.000000\n",
            "max       2.000000e+06   83.000000         27.000000\n"
          ]
        }
      ],
      "source": [
        "# Print summary statistics\n",
        "print(so_numeric_df.describe())"
      ]
    },
    {
      "cell_type": "markdown",
      "metadata": {
        "colab_type": "text",
        "id": "op7uFM-70CW5"
      },
      "source": [
        "---\n",
        "### Normalization\n",
        "---\n",
        "In normalization we linearly scale the entire column between 0 and 1, with 0 corresponding with the lowest value in the column, and 1 with the largest. When using scikit-learn (the most commonly used machine learning library in Python) we can use a `MinMaxScaler` to apply normalization. (It is called this as it scales our values between a minimum and maximum value.)"
      ]
    },
    {
      "cell_type": "markdown",
      "metadata": {
        "colab_type": "text",
        "id": "ME9djjbu0K83"
      },
      "source": [
        "Instructions:\n",
        "\n",
        "* Fit the `MinMaxScaler` on the `Age` column of `so_numeric_df`.\n",
        "* Transform the same column with the scaler you just fit."
      ]
    },
    {
      "cell_type": "code",
      "execution_count": 53,
      "metadata": {},
      "outputs": [
        {
          "name": "stdout",
          "output_type": "stream",
          "text": [
            "     Age_MM  Age\n",
            "0  0.046154   21\n",
            "1  0.307692   38\n",
            "2  0.415385   45\n",
            "3  0.430769   46\n",
            "4  0.323077   39\n"
          ]
        },
        {
          "name": "stderr",
          "output_type": "stream",
          "text": [
            "C:\\Users\\yeiso\\AppData\\Local\\Temp\\ipykernel_28908\\741152671.py:11: SettingWithCopyWarning: \n",
            "A value is trying to be set on a copy of a slice from a DataFrame.\n",
            "Try using .loc[row_indexer,col_indexer] = value instead\n",
            "\n",
            "See the caveats in the documentation: https://pandas.pydata.org/pandas-docs/stable/user_guide/indexing.html#returning-a-view-versus-a-copy\n",
            "  so_numeric_df['Age_MM'] = MM_scaler.transform(so_numeric_df[['Age']])\n"
          ]
        }
      ],
      "source": [
        "# Import MinMaxScaler\n",
        "from sklearn.preprocessing import MinMaxScaler\n",
        "\n",
        "# Instantiate MinMaxScaler\n",
        "MM_scaler = MinMaxScaler()\n",
        "\n",
        "# Fit MM_scaler to the data\n",
        "MM_scaler.fit(so_numeric_df[['Age']])\n",
        "\n",
        "# Transform the data using the fitted scaler\n",
        "so_numeric_df['Age_MM'] = MM_scaler.transform(so_numeric_df[['Age']])\n",
        "\n",
        "# Compare the original and transformed column\n",
        "print(so_numeric_df[['Age_MM', 'Age']].head())\n"
      ]
    },
    {
      "cell_type": "markdown",
      "metadata": {
        "colab_type": "text",
        "id": "lBKJrNv60m2p"
      },
      "source": [
        "---\n",
        "### Standardization\n",
        "---\n",
        "While normalization can be useful for scaling a column between two data points, it is hard to compare two scaled columns if even one of them is overly affected by outliers. One commonly used solution to this is called standardization, where instead of having a strict upper and lower bound, you center the data around its mean, and calculate the number of standard deviations away from mean each data point is."
      ]
    },
    {
      "cell_type": "markdown",
      "metadata": {
        "colab_type": "text",
        "id": "gFyXLW3v0rU9"
      },
      "source": [
        "Instructions:\n",
        "\n",
        "* Fit the `StandardScaler` on the `Age` column of `so_numeric_df`.\n",
        "* Transform the same column with the scaler we just fit."
      ]
    },
    {
      "cell_type": "code",
      "execution_count": 58,
      "metadata": {
        "colab": {
          "base_uri": "https://localhost:8080/",
          "height": 541
        },
        "colab_type": "code",
        "id": "lOoRs_vR0qmJ",
        "outputId": "942ef46f-b68e-491d-eed3-68bf2220062a"
      },
      "outputs": [
        {
          "name": "stdout",
          "output_type": "stream",
          "text": [
            "     Age_SS  Age\n",
            "0 -1.132431   21\n",
            "1  0.150734   38\n",
            "2  0.679096   45\n",
            "3  0.754576   46\n",
            "4  0.226214   39\n"
          ]
        },
        {
          "name": "stderr",
          "output_type": "stream",
          "text": [
            "C:\\Users\\yeiso\\AppData\\Local\\Temp\\ipykernel_28908\\2924426930.py:11: SettingWithCopyWarning: \n",
            "A value is trying to be set on a copy of a slice from a DataFrame.\n",
            "Try using .loc[row_indexer,col_indexer] = value instead\n",
            "\n",
            "See the caveats in the documentation: https://pandas.pydata.org/pandas-docs/stable/user_guide/indexing.html#returning-a-view-versus-a-copy\n",
            "  so_numeric_df['Age_SS'] = SS_scaler.transform(so_numeric_df[['Age']])\n"
          ]
        }
      ],
      "source": [
        "# Import StandardScaler\n",
        "from sklearn.preprocessing import StandardScaler\n",
        "\n",
        "# Instantiate StandardScaler\n",
        "SS_scaler = StandardScaler()\n",
        "\n",
        "# Fit SS_scaler to the data\n",
        "SS_scaler.fit(so_numeric_df[['Age']])\n",
        "\n",
        "# Transform the data using the fitted scaler\n",
        "so_numeric_df['Age_SS'] = SS_scaler.transform(so_numeric_df[['Age']])\n",
        "\n",
        "# Compare the origional and transformed column\n",
        "print(so_numeric_df[['Age_SS', 'Age']].head())"
      ]
    },
    {
      "cell_type": "markdown",
      "metadata": {
        "colab_type": "text",
        "id": "QLntVWcp1aZ1"
      },
      "source": [
        "---\n",
        "### Log transformation\n",
        "---\n",
        "In the previous exercises we scaled the data linearly, which will not affect the data's shape. This works great if our data is normally distributed (or closely normally distributed), an assumption that a lot of machine learning models make. Sometimes we will work with data that closely conforms to normality, e.g the height or weight of a population. On the other hand, many variables in the real world do not follow this pattern e.g, wages or age of a population. \n",
        "\n",
        "Now, we will use a log transform on the `ConvertedSalary` column in the `so_numeric_df` DataFrame as it has a large amount of its data centered around the lower values, but contains very high values also. These distributions are said to have a long right tail."
      ]
    },
    {
      "cell_type": "markdown",
      "metadata": {
        "colab_type": "text",
        "id": "NMQB-F4e1lMK"
      },
      "source": [
        "Instructions:\n",
        "\n",
        "* Fit the `PowerTransformer` on the `ConvertedSalary` column of `so_numeric_df`.\n",
        "* Transform the same column with the scaler we just fit."
      ]
    },
    {
      "cell_type": "code",
      "execution_count": 59,
      "metadata": {
        "colab": {},
        "colab_type": "code",
        "id": "N95T8tjM1h5A"
      },
      "outputs": [],
      "source": [
        "# Import PowerTransformer\n",
        "from sklearn.preprocessing import PowerTransformer"
      ]
    },
    {
      "cell_type": "code",
      "execution_count": 60,
      "metadata": {
        "colab": {
          "base_uri": "https://localhost:8080/",
          "height": 541
        },
        "colab_type": "code",
        "id": "9CNzVVOg1ueY",
        "outputId": "e9c4b78a-9b18-4784-e4b8-79cbc3273397"
      },
      "outputs": [
        {
          "name": "stderr",
          "output_type": "stream",
          "text": [
            "C:\\Users\\yeiso\\AppData\\Local\\Temp\\ipykernel_28908\\2849305209.py:11: SettingWithCopyWarning: \n",
            "A value is trying to be set on a copy of a slice from a DataFrame.\n",
            "Try using .loc[row_indexer,col_indexer] = value instead\n",
            "\n",
            "See the caveats in the documentation: https://pandas.pydata.org/pandas-docs/stable/user_guide/indexing.html#returning-a-view-versus-a-copy\n",
            "  so_numeric_df['ConvertedSalary_LG'] = pow_trans.transform(so_numeric_df[['ConvertedSalary']])\n"
          ]
        },
        {
          "data": {
            "image/png": "[encoded data removed]",
            "text/plain": [
              "<Figure size 640x480 with 2 Axes>"
            ]
          },
          "metadata": {},
          "output_type": "display_data"
        }
      ],
      "source": [
        "# Import PowerTransformer\n",
        "from sklearn.preprocessing import PowerTransformer\n",
        "\n",
        "# Instantiate PowerTransformer\n",
        "pow_trans = PowerTransformer()\n",
        "\n",
        "# Fit the PowerTransformer on the data\n",
        "pow_trans.fit(so_numeric_df[['ConvertedSalary']])\n",
        "\n",
        "# Apply the power transform to the data\n",
        "so_numeric_df['ConvertedSalary_LG'] = pow_trans.transform(so_numeric_df[['ConvertedSalary']])\n",
        "\n",
        "# Plot the data before and after the transformation\n",
        "so_numeric_df[['ConvertedSalary', 'ConvertedSalary_LG']].hist()\n",
        "plt.show()\n"
      ]
    },
    {
      "cell_type": "markdown",
      "metadata": {
        "colab_type": "text",
        "id": "VhlDOrtb18uG"
      },
      "source": [
        "---\n",
        "### Percentage based outlier removal\n",
        "---\n",
        "One way to ensure a small portion of data is not having an overly adverse effect is by removing a certain percentage of the largest and/or smallest values in the column. This can be achieved by finding the relevant quantile and trimming the data using it with a mask. This approach is particularly useful if we are concerned that the highest values in our dataset should be avoided. When using this approach, we must remember that even if there are no outliers, this will still remove the same top N percentage from the dataset."
      ]
    },
    {
      "cell_type": "markdown",
      "metadata": {
        "colab_type": "text",
        "id": "AhiOqx-v2CFB"
      },
      "source": [
        "Instructions:\n",
        "\n",
        "* Find the 95th quantile of the `ConvertedSalary` column in `so_numeric_df` DataFrame.\n",
        "* Trim the `so_numeric_df` DataFrame to retain all rows where `ConvertedSalary` is less than it's 95th quantile and store this as `trimmed_df`.\n",
        "* Plot the histogram of `so_numeric_df[['ConvertedSalary']]`.\n",
        "* Plot the histogram of `trimmed_df[['ConvertedSalary']]`"
      ]
    },
    {
      "cell_type": "code",
      "execution_count": 61,
      "metadata": {
        "colab": {
          "base_uri": "https://localhost:8080/",
          "height": 559
        },
        "colab_type": "code",
        "id": "uTQwYA34k4hg",
        "outputId": "82e8cc74-6181-41b6-a8a6-ddbe2f45bf82"
      },
      "outputs": [
        {
          "data": {
            "image/png": "[encoded data removed]",
            "text/plain": [
              "<Figure size 640x480 with 1 Axes>"
            ]
          },
          "metadata": {},
          "output_type": "display_data"
        },
        {
          "data": {
            "text/plain": [
              "<Figure size 640x480 with 0 Axes>"
            ]
          },
          "metadata": {},
          "output_type": "display_data"
        },
        {
          "data": {
            "image/png": "[encoded data removed]",
            "text/plain": [
              "<Figure size 640x480 with 1 Axes>"
            ]
          },
          "metadata": {},
          "output_type": "display_data"
        }
      ],
      "source": [
        "# Find the 95th quantile\n",
        "quantile = so_numeric_df['ConvertedSalary'].quantile(0.95)\n",
        "\n",
        "# Trim the outliers\n",
        "trimmed_df = so_numeric_df[so_numeric_df['ConvertedSalary'] < quantile]\n",
        "\n",
        "# The original histogram\n",
        "so_numeric_df[['ConvertedSalary']].hist()\n",
        "plt.show()\n",
        "plt.clf()\n",
        "\n",
        "# The trimmed histogram\n",
        "trimmed_df[['ConvertedSalary']].hist()\n",
        "plt.show()"
      ]
    },
    {
      "cell_type": "markdown",
      "metadata": {},
      "source": [
        "Statistical outlier removal\n",
        "\n",
        "While removing the top N% of your data is useful for ensuring that very spurious points are removed, it does have the disadvantage of always removing the same proportion of points, even if the data is correct. A commonly used alternative approach is to remove data that sits further than three standard deviations from the mean. You can implement this by first calculating the mean and standard deviation of the relevant column to find upper and lower bounds, and applying these bounds as a mask to the DataFrame. This method ensures that only data that is genuinely different from the rest is removed, and will remove fewer points if the data is close together.\n",
        "\n",
        "\n"
      ]
    },
    {
      "cell_type": "code",
      "execution_count": 62,
      "metadata": {},
      "outputs": [
        {
          "data": {
            "image/png": "[encoded data removed]",
            "text/plain": [
              "<Figure size 640x480 with 1 Axes>"
            ]
          },
          "metadata": {},
          "output_type": "display_data"
        }
      ],
      "source": [
        "# Find the mean and standard deviation\n",
        "mean = so_numeric_df['ConvertedSalary'].mean()\n",
        "std = so_numeric_df['ConvertedSalary'].std()\n",
        "\n",
        "# Calculate the cutoff\n",
        "cut_off = std * 3\n",
        "lower, upper = mean - cut_off, mean + cut_off\n",
        "\n",
        "# Trim the outliers\n",
        "trimmed_df = so_numeric_df[(so_numeric_df['ConvertedSalary'] < upper) & \n",
        "                           (so_numeric_df['ConvertedSalary'] > lower)]\n",
        "\n",
        "# The trimmed box plot\n",
        "trimmed_df[['ConvertedSalary']].boxplot()\n",
        "plt.show()\n"
      ]
    },
    {
      "cell_type": "markdown",
      "metadata": {},
      "source": [
        "Train and testing transformations (I)\n",
        "\n",
        "\n",
        "So far you have created scalers based on a column, and then applied the scaler to the same data that it was trained on. When creating machine learning models you will generally build your models on historic data (train set) and apply your model to new unseen data (test set). In these cases you will need to ensure that the same scaling is being applied to both the training and test data.\n",
        "To do this in practice you train the scaler on the train set, and keep the trained scaler to apply it to the test set. You should never retrain a scaler on the test set.\n",
        "\n",
        "For this exercise and the next, we split the so_numeric_df DataFrame into train (so_train_numeric) and test (so_test_numeric) sets.\n"
      ]
    },
    {
      "cell_type": "code",
      "execution_count": null,
      "metadata": {},
      "outputs": [],
      "source": [
        "# Import StandardScaler\n",
        "from sklearn.preprocessing import StandardScaler\n",
        "\n",
        "# Apply a standard scaler to the data\n",
        "SS_scaler = StandardScaler()\n",
        "\n",
        "# Fit the standard scaler to the data\n",
        "SS_scaler.fit(so_train_numeric[['Age']])\n",
        "\n",
        "\n",
        "# Transform the test data using the fitted scaler\n",
        "so_test_numeric['Age_ss'] = SS_scaler.transform(so_test_numeric[['Age']])\n",
        "print(so_test_numeric[['Age', 'Age_ss']].head())"
      ]
    },
    {
      "cell_type": "markdown",
      "metadata": {},
      "source": [
        "Train and testing transformations (II)\n",
        "\n",
        "\n",
        "Similar to applying the same scaler to both your training and test sets, if you have removed outliers from the train set, you probably want to do the same on the test set as well. Once again you should ensure that you use the thresholds calculated only from the train set to remove outliers from the test set.\n",
        "\n",
        "Similar to the last exercise, we split the so_numeric_df DataFrame into train (so_train_numeric) and test (so_test_numeric) sets."
      ]
    },
    {
      "cell_type": "code",
      "execution_count": null,
      "metadata": {},
      "outputs": [],
      "source": [
        "train_std = so_train_numeric['ConvertedSalary'].std()\n",
        "train_mean = so_train_numeric['ConvertedSalary'].mean()\n",
        "\n",
        "cut_off = train_std * 3\n",
        "train_lower, train_upper = train_mean - cut_off, train_mean + cut_off\n",
        "\n",
        "# Trim the test DataFrame\n",
        "trimmed_df = so_test_numeric[(so_test_numeric['ConvertedSalary'] < train_upper) \\\n",
        "                             & (so_test_numeric['ConvertedSalary'] > train_lower)]\n"
      ]
    },
    {
      "cell_type": "markdown",
      "metadata": {
        "colab_type": "text",
        "id": "Lgva617FNqZy"
      },
      "source": [
        "## Dealing with Text Data\n",
        "---"
      ]
    },
    {
      "cell_type": "markdown",
      "metadata": {
        "colab_type": "text",
        "id": "IuHUqVR03PJV"
      },
      "source": [
        "---\n",
        "### Cleaning up your text\n",
        "---\n",
        "Unstructured text data cannot be directly used in most analyses. Multiple steps need to be taken to go from a long free form string to a set of numeric columns in the right format that can be ingested by a machine learning model. The first step of this process is to standardize the data and eliminate any characters that could cause problems later on in your analytic pipeline.\n",
        "\n",
        "Here, we will be working with a new dataset containing the inaugural speeches of the presidents of the United States loaded as `speech_df`, with the speeches stored in the `text` column."
      ]
    },
    {
      "cell_type": "code",
      "execution_count": 65,
      "metadata": {
        "colab": {
          "base_uri": "https://localhost:8080/",
          "height": 272
        },
        "colab_type": "code",
        "id": "dFmYNs7W3hYj",
        "outputId": "e9e4b67b-40b6-48de-d199-36bb0962cdb8"
      },
      "outputs": [
        {
          "data": {
            "text/html": [
              "<div>\n",
              "<style scoped>\n",
              "    .dataframe tbody tr th:only-of-type {\n",
              "        vertical-align: middle;\n",
              "    }\n",
              "\n",
              "    .dataframe tbody tr th {\n",
              "        vertical-align: top;\n",
              "    }\n",
              "\n",
              "    .dataframe thead th {\n",
              "        text-align: right;\n",
              "    }\n",
              "</style>\n",
              "<table border=\"1\" class=\"dataframe\">\n",
              "  <thead>\n",
              "    <tr style=\"text-align: right;\">\n",
              "      <th></th>\n",
              "      <th>Name</th>\n",
              "      <th>Inaugural Address</th>\n",
              "      <th>Date</th>\n",
              "      <th>text</th>\n",
              "    </tr>\n",
              "  </thead>\n",
              "  <tbody>\n",
              "    <tr>\n",
              "      <th>0</th>\n",
              "      <td>George Washington</td>\n",
              "      <td>First Inaugural Address</td>\n",
              "      <td>Thursday, April 30, 1789</td>\n",
              "      <td>Fellow-Citizens of the Senate and of the House...</td>\n",
              "    </tr>\n",
              "    <tr>\n",
              "      <th>1</th>\n",
              "      <td>George Washington</td>\n",
              "      <td>Second Inaugural Address</td>\n",
              "      <td>Monday, March 4, 1793</td>\n",
              "      <td>Fellow Citizens:  I AM again called upon by th...</td>\n",
              "    </tr>\n",
              "    <tr>\n",
              "      <th>2</th>\n",
              "      <td>John Adams</td>\n",
              "      <td>Inaugural Address</td>\n",
              "      <td>Saturday, March 4, 1797</td>\n",
              "      <td>WHEN it was first perceived, in early times, t...</td>\n",
              "    </tr>\n",
              "    <tr>\n",
              "      <th>3</th>\n",
              "      <td>Thomas Jefferson</td>\n",
              "      <td>First Inaugural Address</td>\n",
              "      <td>Wednesday, March 4, 1801</td>\n",
              "      <td>Friends and Fellow-Citizens:  CALLED upon to u...</td>\n",
              "    </tr>\n",
              "    <tr>\n",
              "      <th>4</th>\n",
              "      <td>Thomas Jefferson</td>\n",
              "      <td>Second Inaugural Address</td>\n",
              "      <td>Monday, March 4, 1805</td>\n",
              "      <td>PROCEEDING, fellow-citizens, to that qualifica...</td>\n",
              "    </tr>\n",
              "  </tbody>\n",
              "</table>\n",
              "</div>"
            ],
            "text/plain": [
              "                Name         Inaugural Address                      Date  \\\n",
              "0  George Washington   First Inaugural Address  Thursday, April 30, 1789   \n",
              "1  George Washington  Second Inaugural Address     Monday, March 4, 1793   \n",
              "2         John Adams         Inaugural Address   Saturday, March 4, 1797   \n",
              "3   Thomas Jefferson   First Inaugural Address  Wednesday, March 4, 1801   \n",
              "4   Thomas Jefferson  Second Inaugural Address     Monday, March 4, 1805   \n",
              "\n",
              "                                                text  \n",
              "0  Fellow-Citizens of the Senate and of the House...  \n",
              "1  Fellow Citizens:  I AM again called upon by th...  \n",
              "2  WHEN it was first perceived, in early times, t...  \n",
              "3  Friends and Fellow-Citizens:  CALLED upon to u...  \n",
              "4  PROCEEDING, fellow-citizens, to that qualifica...  "
            ]
          },
          "execution_count": 65,
          "metadata": {},
          "output_type": "execute_result"
        }
      ],
      "source": [
        "speech_df = pd.read_csv('inaugural_speeches.csv')\n",
        "speech_df.head()"
      ]
    },
    {
      "cell_type": "code",
      "execution_count": 66,
      "metadata": {
        "colab": {
          "base_uri": "https://localhost:8080/",
          "height": 34
        },
        "colab_type": "code",
        "id": "F0fznLemuITA",
        "outputId": "80ab4cc6-d2da-4cf3-9734-1f9c8cfe89ab"
      },
      "outputs": [
        {
          "data": {
            "text/plain": [
              "(58, 4)"
            ]
          },
          "execution_count": 66,
          "metadata": {},
          "output_type": "execute_result"
        }
      ],
      "source": [
        "speech_df.shape"
      ]
    },
    {
      "cell_type": "markdown",
      "metadata": {
        "colab_type": "text",
        "id": "qvbCog623SDx"
      },
      "source": [
        "Instructions:\n",
        "\n",
        "* Print the first 5 rows of the `text` column in `speech_df` DataFrame to see the free text fields.\n",
        "* Replace all non letter characters in the `text` column with a whitespace and add it as a new column `text_clean` in the `speech_df` DataFrame. \n",
        "* Make all characters in the newly created `text_clean` column lower case.\n",
        "* Print the first 5 rows of the `text_clean` column. "
      ]
    },
    {
      "cell_type": "code",
      "execution_count": 67,
      "metadata": {},
      "outputs": [
        {
          "name": "stdout",
          "output_type": "stream",
          "text": [
            "0    Fellow-Citizens of the Senate and of the House...\n",
            "1    Fellow Citizens:  I AM again called upon by th...\n",
            "2    WHEN it was first perceived, in early times, t...\n",
            "3    Friends and Fellow-Citizens:  CALLED upon to u...\n",
            "4    PROCEEDING, fellow-citizens, to that qualifica...\n",
            "Name: text, dtype: object\n"
          ]
        }
      ],
      "source": [
        "print(speech_df['text'].head(5))\n"
      ]
    },
    {
      "cell_type": "code",
      "execution_count": 68,
      "metadata": {},
      "outputs": [
        {
          "name": "stdout",
          "output_type": "stream",
          "text": [
            "0    fellow-citizens of the senate and of the house...\n",
            "1    fellow citizens:  i am again called upon by th...\n",
            "2    when it was first perceived, in early times, t...\n",
            "3    friends and fellow-citizens:  called upon to u...\n",
            "4    proceeding, fellow-citizens, to that qualifica...\n",
            "Name: text_clean, dtype: object\n"
          ]
        }
      ],
      "source": [
        "# Replace all non-letter characters with a whitespace\n",
        "speech_df['text_clean'] = speech_df['text'].str.replace('[^a-zA-Z]', ' ')\n",
        "\n",
        "# Change to lower case\n",
        "speech_df['text_clean'] = speech_df['text_clean'].str.lower()\n",
        "\n",
        "# Print the first 5 rows of the text_clean column\n",
        "print(speech_df['text_clean'].head())\n"
      ]
    },
    {
      "cell_type": "code",
      "execution_count": 71,
      "metadata": {},
      "outputs": [
        {
          "name": "stdout",
          "output_type": "stream",
          "text": [
            "                                          text_clean  char_cnt  word_cnt  \\\n",
            "0  fellow-citizens of the senate and of the house...      8616      1427   \n",
            "1  fellow citizens:  i am again called upon by th...       787       135   \n",
            "2  when it was first perceived, in early times, t...     13871      2317   \n",
            "3  friends and fellow-citizens:  called upon to u...     10144      1717   \n",
            "4  proceeding, fellow-citizens, to that qualifica...     12902      2157   \n",
            "\n",
            "   avg_word_length  \n",
            "0         6.037842  \n",
            "1         5.829630  \n",
            "2         5.986621  \n",
            "3         5.907979  \n",
            "4         5.981456  \n"
          ]
        }
      ],
      "source": [
        "# Find the length of each text\n",
        "speech_df['char_cnt'] = speech_df['text_clean'].str.len()\n",
        "\n",
        "# Count the number of words in each text\n",
        "speech_df['word_cnt'] = speech_df['text_clean'].str.split().apply(len)\n",
        "\n",
        "# Find the average length of word\n",
        "speech_df['avg_word_length'] = speech_df['char_cnt'] / speech_df['word_cnt']\n",
        "\n",
        "# Print the first 5 rows of these columns\n",
        "print(speech_df[['text_clean', 'char_cnt', 'word_cnt', 'avg_word_length']].head())\n"
      ]
    },
    {
      "cell_type": "code",
      "execution_count": null,
      "metadata": {
        "colab": {
          "base_uri": "https://localhost:8080/",
          "height": 323
        },
        "colab_type": "code",
        "id": "gUpb-LzUnFSE",
        "outputId": "8b2a17e5-b2ac-4451-bbab-ba27a4170574"
      },
      "outputs": [
        {
          "name": "stdout",
          "output_type": "stream",
          "text": [
            "0    Fellow-Citizens of the Senate and of the House...\n",
            "1    Fellow Citizens:  I AM again called upon by th...\n",
            "2    WHEN it was first perceived, in early times, t...\n",
            "3    Friends and Fellow-Citizens:  CALLED upon to u...\n",
            "4    PROCEEDING, fellow-citizens, to that qualifica...\n",
            "Name: text, dtype: object\n",
            "0    Fellow Citizens of the Senate and of the House...\n",
            "1    Fellow Citizens   I AM again called upon by th...\n",
            "2    WHEN it was first perceived  in early times  t...\n",
            "3    Friends and Fellow Citizens   CALLED upon to u...\n",
            "4    PROCEEDING  fellow citizens  to that qualifica...\n",
            "Name: text_clean, dtype: object\n",
            "0    fellow citizens of the senate and of the house...\n",
            "1    fellow citizens   i am again called upon by th...\n",
            "2    when it was first perceived  in early times  t...\n",
            "3    friends and fellow citizens   called upon to u...\n",
            "4    proceeding  fellow citizens  to that qualifica...\n",
            "Name: text_clean, dtype: object\n"
          ]
        }
      ],
      "source": [
        "# print(speech_df.text.head())\n",
        "# # replacing the text\n",
        "# speech_df['text_clean'] = speech_df.text.str.replace('[^a-zA-Z]',' ')\n",
        "# print(speech_df.text_clean.head())\n",
        "# speech_df['text_clean'] = speech_df['text_clean'].str.lower()\n",
        "# print(speech_df.text_clean.head())"
      ]
    },
    {
      "cell_type": "markdown",
      "metadata": {
        "colab_type": "text",
        "id": "Ag6i4ijT4tcM"
      },
      "source": [
        "---\n",
        "### High level text features\n",
        "---\n",
        "Once the text has been cleaned and standardized we can begin creating features from the data. The most fundamental information we can calculate about free form text is its size, such as its length and number of words. "
      ]
    },
    {
      "cell_type": "markdown",
      "metadata": {
        "colab_type": "text",
        "id": "q4jPqRmA4zRA"
      },
      "source": [
        "Instructions:\n",
        "\n",
        "* Record the character length of each speech (`speech_df['text_clean']`) and store it in a new `char_count` column.\n",
        "* Record the word count of each speech in the `word_count` column.\n",
        "* Record the average word length of each speech in the `avg_word_length` column.\n",
        "* Print the first 5 rows of the columns: `text_clean`, `char_cnt`, `word_cnt`, `avg_word_length`\n"
      ]
    },
    {
      "cell_type": "code",
      "execution_count": 70,
      "metadata": {
        "colab": {
          "base_uri": "https://localhost:8080/",
          "height": 323
        },
        "colab_type": "code",
        "id": "QKs-eYRnojPV",
        "outputId": "f5b21e8e-a526-439c-feb8-75f037c12f70"
      },
      "outputs": [
        {
          "name": "stdout",
          "output_type": "stream",
          "text": [
            "0     8616\n",
            "1      787\n",
            "2    13871\n",
            "3    10144\n",
            "4    12902\n",
            "Name: char_count, dtype: int64\n",
            "0    1429\n",
            "1     135\n",
            "2    2320\n",
            "3    1717\n",
            "4    2161\n",
            "Name: word_count, dtype: int64\n",
            "0    6.029391\n",
            "1    5.829630\n",
            "2    5.978879\n",
            "3    5.907979\n",
            "4    5.970384\n",
            "Name: avg_word_length, dtype: float64\n"
          ]
        }
      ],
      "source": [
        "#Counting the number of character\n",
        "speech_df['char_count'] = speech_df['text_clean'].str.len()\n",
        "print(speech_df.char_count.head())\n",
        "# Counting the number of words\n",
        "speech_df['word_count'] = speech_df['text_clean'].str.count(' ')\n",
        "print(speech_df.word_count.head())\n",
        "# Finding the average word length\n",
        "speech_df[\"avg_word_length\"] = speech_df.char_count/speech_df.word_count\n",
        "print(speech_df.avg_word_length.head())"
      ]
    },
    {
      "cell_type": "markdown",
      "metadata": {
        "colab_type": "text",
        "id": "Wi2hOh045bsm"
      },
      "source": [
        "---\n",
        "### Counting words (I)\n",
        "---\n",
        "Once high level information has been recorded we can begin creating features based on the actual content of each text, as given below: \n",
        "\n",
        "* For each unique word in the dataset a column is created.\n",
        "* For each entry, the number of times this word occurs is counted and the count value is entered into the respective column.\n",
        "\n",
        "These \"count\" columns can then be used to train machine learning models."
      ]
    },
    {
      "cell_type": "markdown",
      "metadata": {
        "colab_type": "text",
        "id": "b6sMPuHi5nB7"
      },
      "source": [
        "Instructions:\n",
        "\n",
        "* Import `CountVectorizer` from `sklearn.feature_extraction.text`.\n",
        "* Instantiate `CountVectorizer` and assign it to 'cv'.\n",
        "* Fit the vectorizer to the `text_clean` column.\n",
        "* Print the feature names generated by the vectorizer and find the number of features.\n"
      ]
    },
    {
      "cell_type": "code",
      "execution_count": 73,
      "metadata": {
        "colab": {
          "base_uri": "https://localhost:8080/",
          "height": 34
        },
        "colab_type": "code",
        "id": "nomeBUIc5lA2",
        "outputId": "9b480290-cb93-4f5e-9fc3-31462b83f9fd"
      },
      "outputs": [
        {
          "name": "stdout",
          "output_type": "stream",
          "text": [
            "['0085' '0092' '0093' ... 'zealous' 'zealously' 'zone']\n"
          ]
        }
      ],
      "source": [
        "# Import CountVectorizer\n",
        "from sklearn.feature_extraction.text import CountVectorizer\n",
        "\n",
        "# Instantiate CountVectorizer\n",
        "cv = CountVectorizer()\n",
        "\n",
        "# Fit the vectorizer\n",
        "cv.fit(speech_df['text_clean'])\n",
        "\n",
        "# Print feature names\n",
        "print(cv.get_feature_names_out())\n"
      ]
    },
    {
      "cell_type": "markdown",
      "metadata": {
        "colab_type": "text",
        "id": "bAm6_JHr6Cto"
      },
      "source": [
        "---\n",
        "### Counting words (II)\n",
        "---\n",
        "Once the vectorizer has been fit to the data, it can be used to transform the text to an array representing the word counts. "
      ]
    },
    {
      "cell_type": "markdown",
      "metadata": {
        "colab_type": "text",
        "id": "JcFMh9k_6Hu4"
      },
      "source": [
        "Instructions:\n",
        "\n",
        "* Apply the vectorizer ('cv' in the previous exercise) to the `text_clean` column.\n",
        "* Convert this transformed (sparse) array into a `numpy` array with counts and print it. "
      ]
    },
    {
      "cell_type": "code",
      "execution_count": null,
      "metadata": {
        "colab": {
          "base_uri": "https://localhost:8080/",
          "height": 136
        },
        "colab_type": "code",
        "id": "03A38p7_sS0A",
        "outputId": "32c3a351-3b5d-4674-82de-0f3be3923969"
      },
      "outputs": [
        {
          "name": "stdout",
          "output_type": "stream",
          "text": [
            "[[0 0 0 ... 0 0 0]\n",
            " [0 0 0 ... 0 0 0]\n",
            " [0 1 0 ... 0 0 0]\n",
            " ...\n",
            " [0 1 0 ... 0 0 0]\n",
            " [0 0 0 ... 0 0 0]\n",
            " [0 0 0 ... 0 0 0]]\n"
          ]
        }
      ],
      "source": [
        "# first applying the transformation generated from previous\n",
        "tra = cv.transform(speech_df.text_clean)\n",
        "# Converting into array\n",
        "arr = tra.toarray()\n",
        "print(arr)"
      ]
    },
    {
      "cell_type": "markdown",
      "metadata": {
        "colab_type": "text",
        "id": "vUQAwgOV73BB"
      },
      "source": [
        "---\n",
        "### Limiting your features\n",
        "---\n",
        "As we have seen, using the `CountVectorizer` with its default settings creates a feature for every single word in our corpus. This can create far too many features, often including ones that will provide very little analytical value.\n",
        "\n",
        "For this purpose `CountVectorizer` has parameters that you can set to reduce the number of features:\n",
        "\n",
        "* `min_df` : Use only words that occur in more than this percentage of documents. This can be used to remove outlier words that will not generalize across texts.\n",
        "* `max_df` : Use only words that occur in less than this percentage of documents. This is useful to eliminate very common words that occur in every corpus without adding value such as \"and\" or \"the\"."
      ]
    },
    {
      "cell_type": "markdown",
      "metadata": {
        "colab_type": "text",
        "id": "I9X2x50g8Dfd"
      },
      "source": [
        "Instructions:\n",
        "\n",
        "* Limit the number of features in the `CountVectorizer` by setting the minimum number of documents a word can appear to 20% and the maximum to 80%.\n",
        "* Fit and apply the vectorizer on `text_clean` column in one step.\n",
        "* Convert this transformed (sparse) array into a `numpy` array with counts and print the dimensions of the new reduced array.\n",
        "* Did you notice that the number of features (unique words) greatly reduced from 9043 to 818?\n"
      ]
    },
    {
      "cell_type": "code",
      "execution_count": 75,
      "metadata": {
        "colab": {
          "base_uri": "https://localhost:8080/",
          "height": 51
        },
        "colab_type": "code",
        "id": "RqNCtZu-8NbI",
        "outputId": "a1e75aa6-6c9f-48d8-d68c-7acb6e23a761"
      },
      "outputs": [
        {
          "name": "stdout",
          "output_type": "stream",
          "text": [
            "(58, 818)\n"
          ]
        }
      ],
      "source": [
        "# Import CountVectorizer\n",
        "from sklearn.feature_extraction.text import CountVectorizer\n",
        "\n",
        "# Specify arguments to limit the number of features generated\n",
        "cv = CountVectorizer(min_df=0.2, max_df=0.8)\n",
        "\n",
        "# Fit, transform, and convert into array\n",
        "cv_transformed = cv.fit_transform(speech_df['text_clean'])\n",
        "cv_array = cv_transformed.toarray()\n",
        "\n",
        "# Print the array shape\n",
        "print(cv_array.shape)\n"
      ]
    },
    {
      "cell_type": "markdown",
      "metadata": {
        "colab_type": "text",
        "id": "KKZ4xX3L9IxL"
      },
      "source": [
        "---\n",
        "### Text to DataFrame\n",
        "---\n",
        "Now that we have generated these count based features in an array we will need to reformat them so that they can be combined with the rest of the dataset. This can be achieved by converting the array into a pandas DataFrame, with the feature names you found earlier as the column names, and then concatenate it with the original DataFrame.\n"
      ]
    },
    {
      "cell_type": "markdown",
      "metadata": {
        "colab_type": "text",
        "id": "rvioGe8x9Olj"
      },
      "source": [
        "Instructions:\n",
        "\n",
        "* Create a DataFrame `cv_df` containing the `cv_array` as the values and the feature names as the column names.\n",
        "* Add the prefix `Counts_` to the column names for ease of identification.\n",
        "* Concatenate this DataFrame (`cv_df`) to the original DataFrame (`speech_df`) column wise.\n"
      ]
    },
    {
      "cell_type": "code",
      "execution_count": 79,
      "metadata": {
        "colab": {
          "base_uri": "https://localhost:8080/",
          "height": 610
        },
        "colab_type": "code",
        "id": "pZdFQ8i6uSmW",
        "outputId": "cee3a27c-b042-4f59-bd29-efa22a7b77fa"
      },
      "outputs": [
        {
          "name": "stdout",
          "output_type": "stream",
          "text": [
            "                Name         Inaugural Address                      Date  \\\n",
            "0  George Washington   First Inaugural Address  Thursday, April 30, 1789   \n",
            "1  George Washington  Second Inaugural Address     Monday, March 4, 1793   \n",
            "2         John Adams         Inaugural Address   Saturday, March 4, 1797   \n",
            "3   Thomas Jefferson   First Inaugural Address  Wednesday, March 4, 1801   \n",
            "4   Thomas Jefferson  Second Inaugural Address     Monday, March 4, 1805   \n",
            "\n",
            "                                                text  \\\n",
            "0  Fellow-Citizens of the Senate and of the House...   \n",
            "1  Fellow Citizens:  I AM again called upon by th...   \n",
            "2  WHEN it was first perceived, in early times, t...   \n",
            "3  Friends and Fellow-Citizens:  CALLED upon to u...   \n",
            "4  PROCEEDING, fellow-citizens, to that qualifica...   \n",
            "\n",
            "                                          text_clean  char_cnt  word_cnt  \\\n",
            "0  fellow-citizens of the senate and of the house...      8616      1427   \n",
            "1  fellow citizens:  i am again called upon by th...       787       135   \n",
            "2  when it was first perceived, in early times, t...     13871      2317   \n",
            "3  friends and fellow-citizens:  called upon to u...     10144      1717   \n",
            "4  proceeding, fellow-citizens, to that qualifica...     12902      2157   \n",
            "\n",
            "   avg_word_length  char_count  word_count  ...  Counts_women  Counts_words  \\\n",
            "0         6.037842        8616        1429  ...             0             0   \n",
            "1         5.829630         787         135  ...             0             0   \n",
            "2         5.986621       13871        2320  ...             0             0   \n",
            "3         5.907979       10144        1717  ...             0             0   \n",
            "4         5.981456       12902        2161  ...             0             0   \n",
            "\n",
            "   Counts_work  Counts_wrong  Counts_year  Counts_years  Counts_yet  \\\n",
            "0            0             0            0             1           0   \n",
            "1            0             0            0             0           0   \n",
            "2            0             0            2             3           0   \n",
            "3            1             2            0             0           2   \n",
            "4            0             0            2             2           2   \n",
            "\n",
            "   Counts_you  Counts_young  Counts_your  \n",
            "0           5             0            9  \n",
            "1           0             0            1  \n",
            "2           0             0            1  \n",
            "3           7             0            7  \n",
            "4           4             0            4  \n",
            "\n",
            "[5 rows x 828 columns]\n"
          ]
        }
      ],
      "source": [
        "# Create a DataFrame with these features\n",
        "cv_df = pd.DataFrame(cv_array, columns=cv.get_feature_names_out()).add_prefix('Counts_')\n",
        "\n",
        "# Add the new columns to the original DataFrame\n",
        "speech_df_new = pd.concat([speech_df, cv_df], axis=1, sort=False)\n",
        "print(speech_df_new.head())\n"
      ]
    },
    {
      "cell_type": "markdown",
      "metadata": {
        "colab_type": "text",
        "id": "Rpo0ek00-dsr"
      },
      "source": [
        "---\n",
        "### Tf-idf\n",
        "---\n",
        "While counts of occurrences of words can be useful to build models, words that occur many times may skew the results undesirably. To limit these common words from overpowering your model a form of normalization can be used. In this lesson we will be using **Term frequency-inverse document frequency** (**Tf-idf**). Tf-idf has the effect of reducing the value of common words, while increasing the weight of words that do not occur in many documents."
      ]
    },
    {
      "cell_type": "markdown",
      "metadata": {
        "colab_type": "text",
        "id": "c29xSq9Q-mcH"
      },
      "source": [
        "Instructions:\n",
        "\n",
        "* Import `TfidfVectorizer` from `sklearn.feature_extraction.text`.\n",
        "* Instantiate `TfidfVectorizer` while limiting the number of features to 100 and removing English stop words.\n",
        "* Fit and apply the vectorizer on `text_clean` column in one step.\n",
        "* Create a DataFrame `tv_df` containing the weights of the words and the feature names as the column names.\n",
        "* Add the prefix `TFIDF_` to the column names for ease of identification."
      ]
    },
    {
      "cell_type": "code",
      "execution_count": 80,
      "metadata": {
        "colab": {
          "base_uri": "https://localhost:8080/",
          "height": 187
        },
        "colab_type": "code",
        "id": "-F0vdfx9-yIq",
        "outputId": "5cf0713d-a010-4578-b762-d7356b96a574"
      },
      "outputs": [
        {
          "name": "stdout",
          "output_type": "stream",
          "text": [
            "   TFIDF_0092  TFIDF_0097  TFIDF_action  TFIDF_administration  TFIDF_america  \\\n",
            "0         0.0    0.047468      0.000000              0.133265       0.000000   \n",
            "1         0.0    0.000000      0.000000              0.261016       0.266097   \n",
            "2         0.0    0.021955      0.000000              0.092456       0.157092   \n",
            "3         0.0    0.131111      0.000000              0.092023       0.000000   \n",
            "4         0.0    0.028455      0.041523              0.039943       0.000000   \n",
            "\n",
            "   TFIDF_american  TFIDF_americans  TFIDF_believe  TFIDF_best  TFIDF_better  \\\n",
            "0        0.105269              0.0       0.000000    0.000000      0.000000   \n",
            "1        0.000000              0.0       0.000000    0.000000      0.000000   \n",
            "2        0.073033              0.0       0.000000    0.026118      0.060473   \n",
            "3        0.000000              0.0       0.090286    0.116980      0.045143   \n",
            "4        0.031552              0.0       0.000000    0.067701      0.039189   \n",
            "\n",
            "   ...  TFIDF_things  TFIDF_time  TFIDF_today  TFIDF_union  TFIDF_united  \\\n",
            "0  ...      0.000000    0.045877          0.0     0.135859      0.203364   \n",
            "1  ...      0.000000    0.000000          0.0     0.000000      0.199157   \n",
            "2  ...      0.032037    0.021219          0.0     0.062837      0.070544   \n",
            "3  ...      0.047831    0.000000          0.0     0.093814      0.000000   \n",
            "4  ...      0.083046    0.165008          0.0     0.122162      0.030477   \n",
            "\n",
            "   TFIDF_war  TFIDF_way  TFIDF_work  TFIDF_world  TFIDF_years  \n",
            "0   0.000000   0.060687    0.000000     0.045877     0.052635  \n",
            "1   0.000000   0.000000    0.000000     0.000000     0.000000  \n",
            "2   0.024344   0.000000    0.000000     0.063657     0.073033  \n",
            "3   0.036346   0.000000    0.038993     0.095038     0.000000  \n",
            "4   0.094657   0.000000    0.000000     0.055003     0.063105  \n",
            "\n",
            "[5 rows x 100 columns]\n"
          ]
        }
      ],
      "source": [
        "# Import TfidfVectorizer\n",
        "from sklearn.feature_extraction.text import TfidfVectorizer\n",
        "\n",
        "# Instantiate TfidfVectorizer\n",
        "tv = TfidfVectorizer(max_features=100, stop_words='english')\n",
        "\n",
        "# Fit the vectorizer and transform the data\n",
        "tv_transformed = tv.fit_transform(speech_df['text_clean'])\n",
        "\n",
        "# Create a DataFrame with these features\n",
        "tv_df = pd.DataFrame(tv_transformed.toarray(), \n",
        "                     columns=tv.get_feature_names_out()).add_prefix('TFIDF_')\n",
        "print(tv_df.head())\n"
      ]
    },
    {
      "cell_type": "markdown",
      "metadata": {
        "colab_type": "text",
        "id": "qzcGgNmS_Yc5"
      },
      "source": [
        "---\n",
        "### Inspecting Tf-idf values\n",
        "---\n",
        "After creating Tf-idf features we will often want to understand what are the most highest scored words for each corpus. This can be achieved by isolating the row we want to examine and then sorting the the scores from high to low."
      ]
    },
    {
      "cell_type": "markdown",
      "metadata": {
        "colab_type": "text",
        "id": "MP0QjLZJ_cvX"
      },
      "source": [
        "* Assign the first row of `tv_df` to `sample_row`.\n",
        "* `sample_row` is now a series of weights assigned to words. Sort these values to print the top 5 highest-rated words."
      ]
    },
    {
      "cell_type": "code",
      "execution_count": 81,
      "metadata": {
        "colab": {
          "base_uri": "https://localhost:8080/",
          "height": 221
        },
        "colab_type": "code",
        "id": "g800sJg2_j2x",
        "outputId": "416b7f34-f64f-4d8b-b423-b4fc0e58cfb9"
      },
      "outputs": [
        {
          "name": "stdout",
          "output_type": "stream",
          "text": [
            "TFIDF_government    0.367016\n",
            "TFIDF_public        0.332862\n",
            "TFIDF_present       0.314827\n",
            "TFIDF_duty          0.238368\n",
            "TFIDF_country       0.229385\n",
            "Name: 0, dtype: float64\n"
          ]
        }
      ],
      "source": [
        "# Isolate the row to be examined\n",
        "sample_row = tv_df.iloc[0]\n",
        "\n",
        "# Print the top 5 words of the sorted output\n",
        "print(sample_row.sort_values(ascending=False).head(5))\n"
      ]
    },
    {
      "cell_type": "markdown",
      "metadata": {},
      "source": [
        "Transforming unseen data\n",
        "\n",
        "\n",
        "When creating vectors from text, any transformations that you perform before training a machine learning model, you also need to apply on the new unseen (test) data. To achieve this follow the same approach from the last chapter: fit the vectorizer only on the training data, and apply it to the test data.\n",
        "\n",
        "For this exercise the speech_df DataFrame has been split in two:\n",
        "\n",
        "train_speech_df: The training set consisting of the first 45 speeches.\n",
        "test_speech_df: The test set consisting of the remaining speeches."
      ]
    },
    {
      "cell_type": "code",
      "execution_count": null,
      "metadata": {},
      "outputs": [],
      "source": [
        "# Instantiate TfidfVectorizer\n",
        "tv = TfidfVectorizer(max_features=100, stop_words='english')\n",
        "\n",
        "# Fit the vectorizer and apply it to the text_clean column in the training set\n",
        "tv_transformed = tv.fit_transform(train_speech_df['text_clean'])\n",
        "\n",
        "# Apply the same vectorizer on the text_clean column of the test data\n",
        "test_tv_transformed = tv.transform(test_speech_df['text_clean'])\n",
        "\n",
        "# Create a DataFrame of these new features from the test set\n",
        "test_tv_df = pd.DataFrame(test_tv_transformed.toarray(), \n",
        "                          columns=tv.get_feature_names_out()).add_prefix('TFIDF_')\n",
        "print(test_tv_df.head())\n"
      ]
    },
    {
      "cell_type": "markdown",
      "metadata": {},
      "source": [
        "Using longer n-grams\n",
        "\n",
        "\n",
        "So far you have created features based on individual words in each of the texts. This can be quite powerful when used in a machine learning model but you may be concerned that by looking at words individually a lot of the context is being ignored. To deal with this when creating models you can use n-grams which are sequence of n words grouped together. For example:\n",
        "\n",
        "bigrams: Sequences of two consecutive words\n",
        "trigrams: Sequences of two consecutive words\n",
        "These can be automatically created in your dataset by specifying the ngram_range argument as a tuple (n1, n2) where all n-grams in the n1 to n2 range are included."
      ]
    },
    {
      "cell_type": "code",
      "execution_count": 84,
      "metadata": {},
      "outputs": [
        {
          "name": "stdout",
          "output_type": "stream",
          "text": [
            "['0092 ideal freedom' 'ability preserve protect'\n",
            " 'agriculture commerce manufactures' 'america 0092 ideal'\n",
            " 'best ability preserve' 'best interests country' 'bless god bless'\n",
            " 'bless united states' 'chief justice mr' 'children children children'\n",
            " 'citizens united states' 'civil religious liberty'\n",
            " 'commerce united states' 'concern thank god' 'confidence fellow citizens'\n",
            " 'congress extraordinary session' 'constitution does expressly'\n",
            " 'constitution united states' 'coordinate branches government'\n",
            " 'day task people' 'defend constitution united' 'desire determined work'\n",
            " 'distinguished guests fellow' 'does expressly say' 'equal exact justice'\n",
            " 'era good feeling' 'executive branch government'\n",
            " 'faithfully execute office' 'fellow citizens assembled'\n",
            " 'fellow citizens called' 'fellow citizens large' 'fellow citizens world'\n",
            " 'form perfect union' 'general welfare secure' 'god bless america'\n",
            " 'god bless god' 'good greatest number' 'government united states'\n",
            " 'granted federal government' 'great body people' 'great mass people'\n",
            " 'great political parties' 'greatest good greatest'\n",
            " 'guests fellow citizens' 'interests united states' 'land new promise'\n",
            " 'laws faithfully executed' 'letter spirit constitution'\n",
            " 'liberty pursuit happiness' 'life liberty pursuit'\n",
            " 'local self government' 'make hard choices' 'men women children'\n",
            " 'mr chief justice' 'mr vice president' 'nation like person'\n",
            " 'new breeze blowing' 'new jobs new' 'new level respect'\n",
            " 'new order things' 'new retreat responsibilities' 'new states admitted'\n",
            " 'north south east' 'oath prescribed constitution'\n",
            " 'office president united' 'peace shall strive' 'peace unless america'\n",
            " 'peace world peace' 'peaceful settlement disputes' 'people united states'\n",
            " 'policy united states' 'power general government'\n",
            " 'preserve protect defend' 'president united states'\n",
            " 'president vice president' 'promote general welfare'\n",
            " 'proof confidence fellow' 'protect defend constitution'\n",
            " 'protection great interests' 'reform civil service'\n",
            " 'republican model government' 'require thee justly'\n",
            " 'reserved states people' 'secure blessings liberty'\n",
            " 'soldiers sailors widows' 'south east west'\n",
            " 'sovereignty general government' 'states admitted union'\n",
            " 'taken oath office' 'territories united states' 'thank god bless'\n",
            " 'turning away old' 'united states 0097' 'united states america'\n",
            " 'united states best' 'united states government' 'united states great'\n",
            " 'united states maintain' 'vice president mr' 'welfare secure blessings']\n"
          ]
        }
      ],
      "source": [
        "# Import CountVectorizer\n",
        "from sklearn.feature_extraction.text import CountVectorizer\n",
        "\n",
        "# Instantiate a trigram vectorizer\n",
        "cv_trigram_vec = CountVectorizer(max_features=100, \n",
        "                                 stop_words='english', \n",
        "                                 ngram_range=(3, 3))\n",
        "\n",
        "# Fit and apply trigram vectorizer\n",
        "cv_trigram = cv_trigram_vec.fit_transform(speech_df['text_clean'])\n",
        "\n",
        "# Print the trigram features\n",
        "print(cv_trigram_vec.get_feature_names_out())\n"
      ]
    },
    {
      "cell_type": "markdown",
      "metadata": {},
      "source": [
        "Finding the most common words\n",
        "\n",
        "\n",
        "Its always advisable once you have created your features to inspect them to ensure that they are as you would expect. This will allow you to catch errors early, and perhaps influence what further feature engineering you will need to do.\n",
        "\n",
        "The vectorizer (cv) you fit in the last exercise and the sparse array consisting of word counts (cv_trigram) is available in your workspace."
      ]
    },
    {
      "cell_type": "code",
      "execution_count": 85,
      "metadata": {},
      "outputs": [
        {
          "name": "stdout",
          "output_type": "stream",
          "text": [
            "Counts_constitution united states    20\n",
            "Counts_people united states          13\n",
            "Counts_mr chief justice              10\n",
            "Counts_preserve protect defend       10\n",
            "Counts_president united states        8\n",
            "dtype: int64\n"
          ]
        }
      ],
      "source": [
        "# Create a DataFrame of the features\n",
        "cv_tri_df = pd.DataFrame(cv_trigram.toarray(), \n",
        "                         columns=cv_trigram_vec.get_feature_names_out()).add_prefix('Counts_')\n",
        "\n",
        "# Print the top 5 words in the sorted output\n",
        "print(cv_tri_df.sum().sort_values(ascending=False).head())\n"
      ]
    },
    {
      "cell_type": "markdown",
      "metadata": {
        "colab_type": "text",
        "id": "A7WK0CHgH_3J"
      },
      "source": [
        "---\n",
        "### Sentiment analysis\n",
        "---\n",
        "You have been given the tweets about US airlines. Making use of this data, your task is to predict whether a tweet contains \n",
        "\n",
        "* positive, \n",
        "* negative, or \n",
        "* neutral sentiment \n",
        "\n",
        "about the airline."
      ]
    },
    {
      "cell_type": "code",
      "execution_count": 86,
      "metadata": {
        "colab": {
          "base_uri": "https://localhost:8080/",
          "height": 445
        },
        "colab_type": "code",
        "id": "mupsP8kXIFld",
        "outputId": "e6b4e3d4-27f0-4354-b768-7c966da5d765"
      },
      "outputs": [
        {
          "data": {
            "text/html": [
              "<div>\n",
              "<style scoped>\n",
              "    .dataframe tbody tr th:only-of-type {\n",
              "        vertical-align: middle;\n",
              "    }\n",
              "\n",
              "    .dataframe tbody tr th {\n",
              "        vertical-align: top;\n",
              "    }\n",
              "\n",
              "    .dataframe thead th {\n",
              "        text-align: right;\n",
              "    }\n",
              "</style>\n",
              "<table border=\"1\" class=\"dataframe\">\n",
              "  <thead>\n",
              "    <tr style=\"text-align: right;\">\n",
              "      <th></th>\n",
              "      <th>tweet_id</th>\n",
              "      <th>airline_sentiment</th>\n",
              "      <th>airline_sentiment_confidence</th>\n",
              "      <th>negativereason</th>\n",
              "      <th>negativereason_confidence</th>\n",
              "      <th>airline</th>\n",
              "      <th>airline_sentiment_gold</th>\n",
              "      <th>name</th>\n",
              "      <th>negativereason_gold</th>\n",
              "      <th>retweet_count</th>\n",
              "      <th>text</th>\n",
              "      <th>tweet_coord</th>\n",
              "      <th>tweet_created</th>\n",
              "      <th>tweet_location</th>\n",
              "      <th>user_timezone</th>\n",
              "    </tr>\n",
              "  </thead>\n",
              "  <tbody>\n",
              "    <tr>\n",
              "      <th>0</th>\n",
              "      <td>570306133677760513</td>\n",
              "      <td>neutral</td>\n",
              "      <td>1.0000</td>\n",
              "      <td>NaN</td>\n",
              "      <td>NaN</td>\n",
              "      <td>Virgin America</td>\n",
              "      <td>NaN</td>\n",
              "      <td>cairdin</td>\n",
              "      <td>NaN</td>\n",
              "      <td>0</td>\n",
              "      <td>@VirginAmerica What @dhepburn said.</td>\n",
              "      <td>NaN</td>\n",
              "      <td>2015-02-24 11:35:52 -0800</td>\n",
              "      <td>NaN</td>\n",
              "      <td>Eastern Time (US &amp; Canada)</td>\n",
              "    </tr>\n",
              "    <tr>\n",
              "      <th>1</th>\n",
              "      <td>570301130888122368</td>\n",
              "      <td>positive</td>\n",
              "      <td>0.3486</td>\n",
              "      <td>NaN</td>\n",
              "      <td>0.0000</td>\n",
              "      <td>Virgin America</td>\n",
              "      <td>NaN</td>\n",
              "      <td>jnardino</td>\n",
              "      <td>NaN</td>\n",
              "      <td>0</td>\n",
              "      <td>@VirginAmerica plus you've added commercials t...</td>\n",
              "      <td>NaN</td>\n",
              "      <td>2015-02-24 11:15:59 -0800</td>\n",
              "      <td>NaN</td>\n",
              "      <td>Pacific Time (US &amp; Canada)</td>\n",
              "    </tr>\n",
              "    <tr>\n",
              "      <th>2</th>\n",
              "      <td>570301083672813571</td>\n",
              "      <td>neutral</td>\n",
              "      <td>0.6837</td>\n",
              "      <td>NaN</td>\n",
              "      <td>NaN</td>\n",
              "      <td>Virgin America</td>\n",
              "      <td>NaN</td>\n",
              "      <td>yvonnalynn</td>\n",
              "      <td>NaN</td>\n",
              "      <td>0</td>\n",
              "      <td>@VirginAmerica I didn't today... Must mean I n...</td>\n",
              "      <td>NaN</td>\n",
              "      <td>2015-02-24 11:15:48 -0800</td>\n",
              "      <td>Lets Play</td>\n",
              "      <td>Central Time (US &amp; Canada)</td>\n",
              "    </tr>\n",
              "    <tr>\n",
              "      <th>3</th>\n",
              "      <td>570301031407624196</td>\n",
              "      <td>negative</td>\n",
              "      <td>1.0000</td>\n",
              "      <td>Bad Flight</td>\n",
              "      <td>0.7033</td>\n",
              "      <td>Virgin America</td>\n",
              "      <td>NaN</td>\n",
              "      <td>jnardino</td>\n",
              "      <td>NaN</td>\n",
              "      <td>0</td>\n",
              "      <td>@VirginAmerica it's really aggressive to blast...</td>\n",
              "      <td>NaN</td>\n",
              "      <td>2015-02-24 11:15:36 -0800</td>\n",
              "      <td>NaN</td>\n",
              "      <td>Pacific Time (US &amp; Canada)</td>\n",
              "    </tr>\n",
              "    <tr>\n",
              "      <th>4</th>\n",
              "      <td>570300817074462722</td>\n",
              "      <td>negative</td>\n",
              "      <td>1.0000</td>\n",
              "      <td>Can't Tell</td>\n",
              "      <td>1.0000</td>\n",
              "      <td>Virgin America</td>\n",
              "      <td>NaN</td>\n",
              "      <td>jnardino</td>\n",
              "      <td>NaN</td>\n",
              "      <td>0</td>\n",
              "      <td>@VirginAmerica and it's a really big bad thing...</td>\n",
              "      <td>NaN</td>\n",
              "      <td>2015-02-24 11:14:45 -0800</td>\n",
              "      <td>NaN</td>\n",
              "      <td>Pacific Time (US &amp; Canada)</td>\n",
              "    </tr>\n",
              "  </tbody>\n",
              "</table>\n",
              "</div>"
            ],
            "text/plain": [
              "             tweet_id airline_sentiment  airline_sentiment_confidence  \\\n",
              "0  570306133677760513           neutral                        1.0000   \n",
              "1  570301130888122368          positive                        0.3486   \n",
              "2  570301083672813571           neutral                        0.6837   \n",
              "3  570301031407624196          negative                        1.0000   \n",
              "4  570300817074462722          negative                        1.0000   \n",
              "\n",
              "  negativereason  negativereason_confidence         airline  \\\n",
              "0            NaN                        NaN  Virgin America   \n",
              "1            NaN                     0.0000  Virgin America   \n",
              "2            NaN                        NaN  Virgin America   \n",
              "3     Bad Flight                     0.7033  Virgin America   \n",
              "4     Can't Tell                     1.0000  Virgin America   \n",
              "\n",
              "  airline_sentiment_gold        name negativereason_gold  retweet_count  \\\n",
              "0                    NaN     cairdin                 NaN              0   \n",
              "1                    NaN    jnardino                 NaN              0   \n",
              "2                    NaN  yvonnalynn                 NaN              0   \n",
              "3                    NaN    jnardino                 NaN              0   \n",
              "4                    NaN    jnardino                 NaN              0   \n",
              "\n",
              "                                                text tweet_coord  \\\n",
              "0                @VirginAmerica What @dhepburn said.         NaN   \n",
              "1  @VirginAmerica plus you've added commercials t...         NaN   \n",
              "2  @VirginAmerica I didn't today... Must mean I n...         NaN   \n",
              "3  @VirginAmerica it's really aggressive to blast...         NaN   \n",
              "4  @VirginAmerica and it's a really big bad thing...         NaN   \n",
              "\n",
              "               tweet_created tweet_location               user_timezone  \n",
              "0  2015-02-24 11:35:52 -0800            NaN  Eastern Time (US & Canada)  \n",
              "1  2015-02-24 11:15:59 -0800            NaN  Pacific Time (US & Canada)  \n",
              "2  2015-02-24 11:15:48 -0800      Lets Play  Central Time (US & Canada)  \n",
              "3  2015-02-24 11:15:36 -0800            NaN  Pacific Time (US & Canada)  \n",
              "4  2015-02-24 11:14:45 -0800            NaN  Pacific Time (US & Canada)  "
            ]
          },
          "execution_count": 86,
          "metadata": {},
          "output_type": "execute_result"
        }
      ],
      "source": [
        "data_source_url = \"https://raw.githubusercontent.com/shala2020/shala2020.github.io/master/Lecture_Materials/Assignments/MachineLearning/L6/Tweets.csv\"\n",
        "airline_tweets = pd.read_csv(data_source_url)\n",
        "airline_tweets.head()"
      ]
    },
    {
      "cell_type": "markdown",
      "metadata": {
        "colab_type": "text",
        "id": "AYlKJmRzIHlu"
      },
      "source": [
        "Instructions:\n",
        "\n",
        "* Draw a pie chart to see the number of tweets for each airline. \n",
        "* Draw a pie chart to see the distribution of sentiments across all the tweets. \n",
        "* Apply suitable data pre-processing steps to get rid of undesired symbols. This part has been done upto some extent.  \n",
        "* Using `TfidfVectorizer` class, convert text features into TF-IDF feature vectors.\n",
        "* `airline_sentiment` is the label and `text` is the feature. Apply suitable `train_test_split`, implement suitable machine learning classifier, and show the accuracy. \n",
        "\n",
        "Note: \n",
        "\n",
        "* For your convenience, the pre-processing of features have been done. \n",
        "* You are supposed to apply the vectorization on `processed_features` and implement ML algorithm. "
      ]
    },
    {
      "cell_type": "code",
      "execution_count": 88,
      "metadata": {
        "colab": {
          "base_uri": "https://localhost:8080/",
          "height": 265
        },
        "colab_type": "code",
        "id": "zwG_ChU3zMzr",
        "outputId": "2e80a68a-e9f1-4f54-8193-94a08ff9cb65"
      },
      "outputs": [
        {
          "data": {
            "text/plain": [
              "<Axes: ylabel='count'>"
            ]
          },
          "execution_count": 88,
          "metadata": {},
          "output_type": "execute_result"
        },
        {
          "data": {
            "image/png": "[encoded data removed]",
            "text/plain": [
              "<Figure size 640x480 with 1 Axes>"
            ]
          },
          "metadata": {},
          "output_type": "display_data"
        }
      ],
      "source": [
        "cou = airline_tweets.airline.value_counts()\n",
        "cou.plot(kind='pie', autopct='%1.0f%%')"
      ]
    },
    {
      "cell_type": "code",
      "execution_count": 89,
      "metadata": {
        "colab": {
          "base_uri": "https://localhost:8080/",
          "height": 265
        },
        "colab_type": "code",
        "id": "qwFg-fU5zZno",
        "outputId": "c300db34-a86b-4efc-baa3-6442af1ac01c"
      },
      "outputs": [
        {
          "data": {
            "text/plain": [
              "<Axes: ylabel='count'>"
            ]
          },
          "execution_count": 89,
          "metadata": {},
          "output_type": "execute_result"
        },
        {
          "data": {
            "image/png": "[encoded data removed]",
            "text/plain": [
              "<Figure size 640x480 with 1 Axes>"
            ]
          },
          "metadata": {},
          "output_type": "display_data"
        }
      ],
      "source": [
        "cou = airline_tweets.airline_sentiment.value_counts()\n",
        "cou.plot(kind='pie', autopct='%1.0f%%')"
      ]
    },
    {
      "cell_type": "code",
      "execution_count": 90,
      "metadata": {
        "colab": {},
        "colab_type": "code",
        "id": "g5W-u3BCBfRN"
      },
      "outputs": [],
      "source": [
        "# Extracting features and label\n",
        "features = airline_tweets.iloc[:, 10].values\n",
        "labels = airline_tweets.iloc[:, 1].values"
      ]
    },
    {
      "cell_type": "code",
      "execution_count": 91,
      "metadata": {
        "colab": {},
        "colab_type": "code",
        "id": "oeDEmJ8yBiQj"
      },
      "outputs": [],
      "source": [
        "import re \n",
        "\n",
        "processed_features = []\n",
        "\n",
        "for sentence in range(0, len(features)):\n",
        "    # Remove all the special characters\n",
        "    processed_feature = re.sub(r'\\W', ' ', str(features[sentence]))\n",
        "\n",
        "    # remove all single characters\n",
        "    processed_feature= re.sub(r'\\s+[a-zA-Z]\\s+', ' ', processed_feature)\n",
        "\n",
        "    # Remove single characters from the start\n",
        "    processed_feature = re.sub(r'\\^[a-zA-Z]\\s+', ' ', processed_feature) \n",
        "\n",
        "    # Substituting multiple spaces with single space\n",
        "    processed_feature = re.sub(r'\\s+', ' ', processed_feature, flags=re.I)\n",
        "\n",
        "    # Removing prefixed 'b'\n",
        "    processed_feature = re.sub(r'^b\\s+', '', processed_feature)\n",
        "\n",
        "    # Converting to Lowercase\n",
        "    processed_feature = processed_feature.lower()\n",
        "\n",
        "    processed_features.append(processed_feature)"
      ]
    },
    {
      "cell_type": "code",
      "execution_count": 92,
      "metadata": {
        "colab": {
          "base_uri": "https://localhost:8080/",
          "height": 51
        },
        "colab_type": "code",
        "id": "uvBHecFl0c1_",
        "outputId": "4472ca03-6e38-4fbc-e834-b1dc1addfa46"
      },
      "outputs": [
        {
          "name": "stderr",
          "output_type": "stream",
          "text": [
            "[nltk_data] Downloading package stopwords to\n",
            "[nltk_data]     C:\\Users\\yeiso\\AppData\\Roaming\\nltk_data...\n",
            "[nltk_data]   Package stopwords is already up-to-date!\n"
          ]
        }
      ],
      "source": [
        "import nltk \n",
        "nltk.download('stopwords')\n",
        "from nltk.corpus import stopwords\n",
        "from sklearn.feature_extraction.text import TfidfVectorizer\n",
        "\n",
        "tfr = TfidfVectorizer (max_features=2500, min_df=7, max_df=0.8, stop_words=stopwords.words('english'))\n",
        "features = tfr.fit_transform(processed_features).toarray()"
      ]
    },
    {
      "cell_type": "code",
      "execution_count": 93,
      "metadata": {
        "colab": {},
        "colab_type": "code",
        "id": "KQxlh76XGr5m"
      },
      "outputs": [],
      "source": [
        "from sklearn.model_selection import train_test_split \n",
        "seed = 7\n",
        "test_size = 0.33\n",
        "X_train, X_test0, y_train, y_test0 = train_test_split(features, labels, test_size=test_size, random_state=seed)"
      ]
    },
    {
      "cell_type": "code",
      "execution_count": 94,
      "metadata": {
        "colab": {
          "base_uri": "https://localhost:8080/",
          "height": 255
        },
        "colab_type": "code",
        "id": "u5ME2ektHKue",
        "outputId": "973d2fc6-2d17-46e8-e3c6-6ba826d85393"
      },
      "outputs": [
        {
          "name": "stdout",
          "output_type": "stream",
          "text": [
            "[[2836  142   64]\n",
            " [ 556  398   88]\n",
            " [ 240   99  409]]\n",
            "              precision    recall  f1-score   support\n",
            "\n",
            "    negative       0.78      0.93      0.85      3042\n",
            "     neutral       0.62      0.38      0.47      1042\n",
            "    positive       0.73      0.55      0.62       748\n",
            "\n",
            "    accuracy                           0.75      4832\n",
            "   macro avg       0.71      0.62      0.65      4832\n",
            "weighted avg       0.74      0.75      0.73      4832\n",
            "\n",
            "0.753932119205298\n"
          ]
        }
      ],
      "source": [
        "# Now using Random forest\n",
        "\n",
        "from sklearn.ensemble import RandomForestClassifier\n",
        "rf = RandomForestClassifier(n_estimators = 500, random_state = 2)#,max_depth=100)\n",
        "# Train the model on training data\n",
        "rf.fit(X_train, y_train);\n",
        "\n",
        "\n",
        "predictionsRF = rf.predict(X_test0)\n",
        "#Import scikit-learn metrics module for accuracy calculation\n",
        "from sklearn import metrics\n",
        "from sklearn.metrics import classification_report, confusion_matrix, accuracy_score\n",
        "# Model Accuracy, how often is the classifier correct?\n",
        "print(confusion_matrix(y_test0,predictionsRF))\n",
        "print(classification_report(y_test0,predictionsRF))\n",
        "print(accuracy_score(y_test0, predictionsRF))"
      ]
    }
  ],
  "metadata": {
    "accelerator": "GPU",
    "colab": {
      "collapsed_sections": [],
      "include_colab_link": true,
      "name": "SHALAAssignment10.ipynb",
      "provenance": []
    },
    "kernelspec": {
      "display_name": "Python 3",
      "name": "python3"
    },
    "language_info": {
      "codemirror_mode": {
        "name": "ipython",
        "version": 3
      },
      "file_extension": ".py",
      "mimetype": "text/x-python",
      "name": "python",
      "nbconvert_exporter": "python",
      "pygments_lexer": "ipython3",
      "version": "3.12.0"
    }
  },
  "nbformat": 4,
  "nbformat_minor": 0
}
